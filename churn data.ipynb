{
 "cells": [
  {
   "cell_type": "markdown",
   "metadata": {
    "id": "0F8wz3R2KRci"
   },
   "source": [
    "# Customer Churn:\n",
    "\n",
    "- Customer Churn is a critical metric in business and data anlytics. Customer churn is like when people decide to stop using a particular service or buying products from a specific company.\n",
    "\n",
    "- Understanding customer churn and the reasons why it happens, helps businesses figure out why customers are leaving and what they can do to keep more potential customers happy and engaged\n",
    "\n",
    "In this study, i will use a bank churn dataset to understand why customers are exiting and what strategies could be implemented to fix this"
   ]
  },
  {
   "cell_type": "markdown",
   "metadata": {},
   "source": [
    "# Data Dictionary"
   ]
  },
  {
   "cell_type": "markdown",
   "metadata": {},
   "source": [
    "- **RowNumber**: The sequential number assigned to each row in the dataset.\n",
    "- **CustomerId**: A unique identifier assigned to each customer.\n",
    "- **Surname**: The last name of the customer.\n",
    "- **CreditScore**: A numerical representation of a customer's creditworthiness.\n",
    "- **Geography**: The geographic location or region associated with the customer.\n",
    "- **Gender**: The gender of the customer (e.g., Male or Female).\n",
    "- **Age**: The age of the customer.\n",
    "- **Tenure**: The duration of time (in years) the customer has been with the company.\n",
    "- **Balance**: The amount of money held in the customer's account\n",
    "- **NumOfProducts**: The number of products/services the customer has with the company.\n",
    "- **HasCrCard**: A binary indicator (1 or 0) representing whether the customer has a credit card with the company.\n",
    "- **IsActiveMember**: A binary indicator (1 or 0) indicating whether the customer is an active member.\n",
    "- **EstimatedSalary**: An estimate of the customer's salary.\n",
    "- **Exited**: A binary indicator (1 or 0) representing whether the customer has exited or stopped using the company's services (1 for exited, 0 for not exited)."
   ]
  },
  {
   "cell_type": "markdown",
   "metadata": {},
   "source": [
    "## Data Exploration"
   ]
  },
  {
   "cell_type": "code",
   "execution_count": 1,
   "metadata": {
    "id": "KFhJKJ0DKsjb",
    "tags": []
   },
   "outputs": [],
   "source": [
    "import pandas as pd\n",
    "import numpy as np\n",
    "import matplotlib.pyplot as plt\n",
    "\n",
    "import warnings\n",
    "warnings.filterwarnings(\"ignore\")\n",
    "\n",
    "df = pd.read_csv('Churn_Modelling.csv')"
   ]
  },
  {
   "cell_type": "code",
   "execution_count": 2,
   "metadata": {
    "colab": {
     "base_uri": "https://localhost:8080/"
    },
    "executionInfo": {
     "elapsed": 11,
     "status": "ok",
     "timestamp": 1701447558807,
     "user": {
      "displayName": "Chukwuebuka Michael Ezeokeke",
      "userId": "10586870854610730309"
     },
     "user_tz": 540
    },
    "id": "ANO8rQxULCk-",
    "outputId": "c93b8dc5-495b-4fe8-9f3a-359518abac86",
    "tags": []
   },
   "outputs": [
    {
     "data": {
      "text/plain": [
       "(10000, 14)"
      ]
     },
     "execution_count": 2,
     "metadata": {},
     "output_type": "execute_result"
    }
   ],
   "source": [
    "# used to explore the number of rows and columns\n",
    "df.shape"
   ]
  },
  {
   "cell_type": "markdown",
   "metadata": {
    "id": "ZxKDCoCHMDWu"
   },
   "source": [
    "This dataset has 14 fetures and 10000 observations"
   ]
  },
  {
   "cell_type": "code",
   "execution_count": 3,
   "metadata": {
    "colab": {
     "base_uri": "https://localhost:8080/",
     "height": 226
    },
    "executionInfo": {
     "elapsed": 9,
     "status": "ok",
     "timestamp": 1701447774865,
     "user": {
      "displayName": "Chukwuebuka Michael Ezeokeke",
      "userId": "10586870854610730309"
     },
     "user_tz": 540
    },
    "id": "kFV7k8mvLQND",
    "outputId": "41dddf66-f9ee-4ffb-8db5-f5134d77ef1d",
    "tags": []
   },
   "outputs": [
    {
     "data": {
      "text/html": [
       "<div>\n",
       "<style scoped>\n",
       "    .dataframe tbody tr th:only-of-type {\n",
       "        vertical-align: middle;\n",
       "    }\n",
       "\n",
       "    .dataframe tbody tr th {\n",
       "        vertical-align: top;\n",
       "    }\n",
       "\n",
       "    .dataframe thead th {\n",
       "        text-align: right;\n",
       "    }\n",
       "</style>\n",
       "<table border=\"1\" class=\"dataframe\">\n",
       "  <thead>\n",
       "    <tr style=\"text-align: right;\">\n",
       "      <th></th>\n",
       "      <th>RowNumber</th>\n",
       "      <th>CustomerId</th>\n",
       "      <th>Surname</th>\n",
       "      <th>CreditScore</th>\n",
       "      <th>Geography</th>\n",
       "      <th>Gender</th>\n",
       "      <th>Age</th>\n",
       "      <th>Tenure</th>\n",
       "      <th>Balance</th>\n",
       "      <th>NumOfProducts</th>\n",
       "      <th>HasCrCard</th>\n",
       "      <th>IsActiveMember</th>\n",
       "      <th>EstimatedSalary</th>\n",
       "      <th>Exited</th>\n",
       "    </tr>\n",
       "  </thead>\n",
       "  <tbody>\n",
       "    <tr>\n",
       "      <th>0</th>\n",
       "      <td>1</td>\n",
       "      <td>15634602</td>\n",
       "      <td>Hargrave</td>\n",
       "      <td>619</td>\n",
       "      <td>France</td>\n",
       "      <td>Female</td>\n",
       "      <td>42</td>\n",
       "      <td>2</td>\n",
       "      <td>0.00</td>\n",
       "      <td>1</td>\n",
       "      <td>1</td>\n",
       "      <td>1</td>\n",
       "      <td>101348.88</td>\n",
       "      <td>1</td>\n",
       "    </tr>\n",
       "    <tr>\n",
       "      <th>1</th>\n",
       "      <td>2</td>\n",
       "      <td>15647311</td>\n",
       "      <td>Hill</td>\n",
       "      <td>608</td>\n",
       "      <td>Spain</td>\n",
       "      <td>Female</td>\n",
       "      <td>41</td>\n",
       "      <td>1</td>\n",
       "      <td>83807.86</td>\n",
       "      <td>1</td>\n",
       "      <td>0</td>\n",
       "      <td>1</td>\n",
       "      <td>112542.58</td>\n",
       "      <td>0</td>\n",
       "    </tr>\n",
       "    <tr>\n",
       "      <th>2</th>\n",
       "      <td>3</td>\n",
       "      <td>15619304</td>\n",
       "      <td>Onio</td>\n",
       "      <td>502</td>\n",
       "      <td>France</td>\n",
       "      <td>Female</td>\n",
       "      <td>42</td>\n",
       "      <td>8</td>\n",
       "      <td>159660.80</td>\n",
       "      <td>3</td>\n",
       "      <td>1</td>\n",
       "      <td>0</td>\n",
       "      <td>113931.57</td>\n",
       "      <td>1</td>\n",
       "    </tr>\n",
       "    <tr>\n",
       "      <th>3</th>\n",
       "      <td>4</td>\n",
       "      <td>15701354</td>\n",
       "      <td>Boni</td>\n",
       "      <td>699</td>\n",
       "      <td>France</td>\n",
       "      <td>Female</td>\n",
       "      <td>39</td>\n",
       "      <td>1</td>\n",
       "      <td>0.00</td>\n",
       "      <td>2</td>\n",
       "      <td>0</td>\n",
       "      <td>0</td>\n",
       "      <td>93826.63</td>\n",
       "      <td>0</td>\n",
       "    </tr>\n",
       "    <tr>\n",
       "      <th>4</th>\n",
       "      <td>5</td>\n",
       "      <td>15737888</td>\n",
       "      <td>Mitchell</td>\n",
       "      <td>850</td>\n",
       "      <td>Spain</td>\n",
       "      <td>Female</td>\n",
       "      <td>43</td>\n",
       "      <td>2</td>\n",
       "      <td>125510.82</td>\n",
       "      <td>1</td>\n",
       "      <td>1</td>\n",
       "      <td>1</td>\n",
       "      <td>79084.10</td>\n",
       "      <td>0</td>\n",
       "    </tr>\n",
       "  </tbody>\n",
       "</table>\n",
       "</div>"
      ],
      "text/plain": [
       "   RowNumber  CustomerId   Surname  CreditScore Geography  Gender  Age  \\\n",
       "0          1    15634602  Hargrave          619    France  Female   42   \n",
       "1          2    15647311      Hill          608     Spain  Female   41   \n",
       "2          3    15619304      Onio          502    France  Female   42   \n",
       "3          4    15701354      Boni          699    France  Female   39   \n",
       "4          5    15737888  Mitchell          850     Spain  Female   43   \n",
       "\n",
       "   Tenure    Balance  NumOfProducts  HasCrCard  IsActiveMember  \\\n",
       "0       2       0.00              1          1               1   \n",
       "1       1   83807.86              1          0               1   \n",
       "2       8  159660.80              3          1               0   \n",
       "3       1       0.00              2          0               0   \n",
       "4       2  125510.82              1          1               1   \n",
       "\n",
       "   EstimatedSalary  Exited  \n",
       "0        101348.88       1  \n",
       "1        112542.58       0  \n",
       "2        113931.57       1  \n",
       "3         93826.63       0  \n",
       "4         79084.10       0  "
      ]
     },
     "execution_count": 3,
     "metadata": {},
     "output_type": "execute_result"
    }
   ],
   "source": [
    "# used to display the data\n",
    "df.head()"
   ]
  },
  {
   "cell_type": "code",
   "execution_count": 4,
   "metadata": {
    "colab": {
     "base_uri": "https://localhost:8080/",
     "height": 320
    },
    "executionInfo": {
     "elapsed": 10,
     "status": "ok",
     "timestamp": 1701447849699,
     "user": {
      "displayName": "Chukwuebuka Michael Ezeokeke",
      "userId": "10586870854610730309"
     },
     "user_tz": 540
    },
    "id": "2tF9FdqYMK7I",
    "outputId": "834fcd29-d327-4f33-ed76-12e769365526",
    "tags": []
   },
   "outputs": [
    {
     "data": {
      "text/html": [
       "<div>\n",
       "<style scoped>\n",
       "    .dataframe tbody tr th:only-of-type {\n",
       "        vertical-align: middle;\n",
       "    }\n",
       "\n",
       "    .dataframe tbody tr th {\n",
       "        vertical-align: top;\n",
       "    }\n",
       "\n",
       "    .dataframe thead th {\n",
       "        text-align: right;\n",
       "    }\n",
       "</style>\n",
       "<table border=\"1\" class=\"dataframe\">\n",
       "  <thead>\n",
       "    <tr style=\"text-align: right;\">\n",
       "      <th></th>\n",
       "      <th>RowNumber</th>\n",
       "      <th>CustomerId</th>\n",
       "      <th>CreditScore</th>\n",
       "      <th>Age</th>\n",
       "      <th>Tenure</th>\n",
       "      <th>Balance</th>\n",
       "      <th>NumOfProducts</th>\n",
       "      <th>HasCrCard</th>\n",
       "      <th>IsActiveMember</th>\n",
       "      <th>EstimatedSalary</th>\n",
       "      <th>Exited</th>\n",
       "    </tr>\n",
       "  </thead>\n",
       "  <tbody>\n",
       "    <tr>\n",
       "      <th>count</th>\n",
       "      <td>10000.00000</td>\n",
       "      <td>1.000000e+04</td>\n",
       "      <td>10000.000000</td>\n",
       "      <td>10000.000000</td>\n",
       "      <td>10000.000000</td>\n",
       "      <td>10000.000000</td>\n",
       "      <td>10000.000000</td>\n",
       "      <td>10000.00000</td>\n",
       "      <td>10000.000000</td>\n",
       "      <td>10000.000000</td>\n",
       "      <td>10000.000000</td>\n",
       "    </tr>\n",
       "    <tr>\n",
       "      <th>mean</th>\n",
       "      <td>5000.50000</td>\n",
       "      <td>1.569094e+07</td>\n",
       "      <td>650.528800</td>\n",
       "      <td>38.921800</td>\n",
       "      <td>5.012800</td>\n",
       "      <td>76485.889288</td>\n",
       "      <td>1.530200</td>\n",
       "      <td>0.70550</td>\n",
       "      <td>0.515100</td>\n",
       "      <td>100090.239881</td>\n",
       "      <td>0.203700</td>\n",
       "    </tr>\n",
       "    <tr>\n",
       "      <th>std</th>\n",
       "      <td>2886.89568</td>\n",
       "      <td>7.193619e+04</td>\n",
       "      <td>96.653299</td>\n",
       "      <td>10.487806</td>\n",
       "      <td>2.892174</td>\n",
       "      <td>62397.405202</td>\n",
       "      <td>0.581654</td>\n",
       "      <td>0.45584</td>\n",
       "      <td>0.499797</td>\n",
       "      <td>57510.492818</td>\n",
       "      <td>0.402769</td>\n",
       "    </tr>\n",
       "    <tr>\n",
       "      <th>min</th>\n",
       "      <td>1.00000</td>\n",
       "      <td>1.556570e+07</td>\n",
       "      <td>350.000000</td>\n",
       "      <td>18.000000</td>\n",
       "      <td>0.000000</td>\n",
       "      <td>0.000000</td>\n",
       "      <td>1.000000</td>\n",
       "      <td>0.00000</td>\n",
       "      <td>0.000000</td>\n",
       "      <td>11.580000</td>\n",
       "      <td>0.000000</td>\n",
       "    </tr>\n",
       "    <tr>\n",
       "      <th>25%</th>\n",
       "      <td>2500.75000</td>\n",
       "      <td>1.562853e+07</td>\n",
       "      <td>584.000000</td>\n",
       "      <td>32.000000</td>\n",
       "      <td>3.000000</td>\n",
       "      <td>0.000000</td>\n",
       "      <td>1.000000</td>\n",
       "      <td>0.00000</td>\n",
       "      <td>0.000000</td>\n",
       "      <td>51002.110000</td>\n",
       "      <td>0.000000</td>\n",
       "    </tr>\n",
       "    <tr>\n",
       "      <th>50%</th>\n",
       "      <td>5000.50000</td>\n",
       "      <td>1.569074e+07</td>\n",
       "      <td>652.000000</td>\n",
       "      <td>37.000000</td>\n",
       "      <td>5.000000</td>\n",
       "      <td>97198.540000</td>\n",
       "      <td>1.000000</td>\n",
       "      <td>1.00000</td>\n",
       "      <td>1.000000</td>\n",
       "      <td>100193.915000</td>\n",
       "      <td>0.000000</td>\n",
       "    </tr>\n",
       "    <tr>\n",
       "      <th>75%</th>\n",
       "      <td>7500.25000</td>\n",
       "      <td>1.575323e+07</td>\n",
       "      <td>718.000000</td>\n",
       "      <td>44.000000</td>\n",
       "      <td>7.000000</td>\n",
       "      <td>127644.240000</td>\n",
       "      <td>2.000000</td>\n",
       "      <td>1.00000</td>\n",
       "      <td>1.000000</td>\n",
       "      <td>149388.247500</td>\n",
       "      <td>0.000000</td>\n",
       "    </tr>\n",
       "    <tr>\n",
       "      <th>max</th>\n",
       "      <td>10000.00000</td>\n",
       "      <td>1.581569e+07</td>\n",
       "      <td>850.000000</td>\n",
       "      <td>92.000000</td>\n",
       "      <td>10.000000</td>\n",
       "      <td>250898.090000</td>\n",
       "      <td>4.000000</td>\n",
       "      <td>1.00000</td>\n",
       "      <td>1.000000</td>\n",
       "      <td>199992.480000</td>\n",
       "      <td>1.000000</td>\n",
       "    </tr>\n",
       "  </tbody>\n",
       "</table>\n",
       "</div>"
      ],
      "text/plain": [
       "         RowNumber    CustomerId   CreditScore           Age        Tenure  \\\n",
       "count  10000.00000  1.000000e+04  10000.000000  10000.000000  10000.000000   \n",
       "mean    5000.50000  1.569094e+07    650.528800     38.921800      5.012800   \n",
       "std     2886.89568  7.193619e+04     96.653299     10.487806      2.892174   \n",
       "min        1.00000  1.556570e+07    350.000000     18.000000      0.000000   \n",
       "25%     2500.75000  1.562853e+07    584.000000     32.000000      3.000000   \n",
       "50%     5000.50000  1.569074e+07    652.000000     37.000000      5.000000   \n",
       "75%     7500.25000  1.575323e+07    718.000000     44.000000      7.000000   \n",
       "max    10000.00000  1.581569e+07    850.000000     92.000000     10.000000   \n",
       "\n",
       "             Balance  NumOfProducts    HasCrCard  IsActiveMember  \\\n",
       "count   10000.000000   10000.000000  10000.00000    10000.000000   \n",
       "mean    76485.889288       1.530200      0.70550        0.515100   \n",
       "std     62397.405202       0.581654      0.45584        0.499797   \n",
       "min         0.000000       1.000000      0.00000        0.000000   \n",
       "25%         0.000000       1.000000      0.00000        0.000000   \n",
       "50%     97198.540000       1.000000      1.00000        1.000000   \n",
       "75%    127644.240000       2.000000      1.00000        1.000000   \n",
       "max    250898.090000       4.000000      1.00000        1.000000   \n",
       "\n",
       "       EstimatedSalary        Exited  \n",
       "count     10000.000000  10000.000000  \n",
       "mean     100090.239881      0.203700  \n",
       "std       57510.492818      0.402769  \n",
       "min          11.580000      0.000000  \n",
       "25%       51002.110000      0.000000  \n",
       "50%      100193.915000      0.000000  \n",
       "75%      149388.247500      0.000000  \n",
       "max      199992.480000      1.000000  "
      ]
     },
     "execution_count": 4,
     "metadata": {},
     "output_type": "execute_result"
    }
   ],
   "source": [
    "# displays summary statistics\n",
    "df.describe()"
   ]
  },
  {
   "cell_type": "code",
   "execution_count": 5,
   "metadata": {
    "colab": {
     "base_uri": "https://localhost:8080/"
    },
    "executionInfo": {
     "elapsed": 11,
     "status": "ok",
     "timestamp": 1701447864130,
     "user": {
      "displayName": "Chukwuebuka Michael Ezeokeke",
      "userId": "10586870854610730309"
     },
     "user_tz": 540
    },
    "id": "coxVck2dMdIi",
    "outputId": "8a524288-bcb0-4030-ffda-67b56a145177",
    "tags": []
   },
   "outputs": [
    {
     "data": {
      "text/plain": [
       "RowNumber          0\n",
       "CustomerId         0\n",
       "Surname            0\n",
       "CreditScore        0\n",
       "Geography          0\n",
       "Gender             0\n",
       "Age                0\n",
       "Tenure             0\n",
       "Balance            0\n",
       "NumOfProducts      0\n",
       "HasCrCard          0\n",
       "IsActiveMember     0\n",
       "EstimatedSalary    0\n",
       "Exited             0\n",
       "dtype: int64"
      ]
     },
     "execution_count": 5,
     "metadata": {},
     "output_type": "execute_result"
    }
   ],
   "source": [
    "# used to identify missing values in a dataset\n",
    "df.isna().sum()"
   ]
  },
  {
   "cell_type": "markdown",
   "metadata": {
    "id": "nV41YDFjM2Qi"
   },
   "source": [
    "Observation: This data is clean"
   ]
  },
  {
   "cell_type": "code",
   "execution_count": 6,
   "metadata": {
    "colab": {
     "base_uri": "https://localhost:8080/"
    },
    "executionInfo": {
     "elapsed": 6,
     "status": "ok",
     "timestamp": 1701448116004,
     "user": {
      "displayName": "Chukwuebuka Michael Ezeokeke",
      "userId": "10586870854610730309"
     },
     "user_tz": 540
    },
    "id": "PEY_9UCeMgoO",
    "outputId": "d4278618-0aad-4fe2-d8ec-d36ac17f59d4",
    "tags": []
   },
   "outputs": [
    {
     "data": {
      "text/plain": [
       "Index(['RowNumber', 'CustomerId', 'Surname', 'CreditScore', 'Geography',\n",
       "       'Gender', 'Age', 'Tenure', 'Balance', 'NumOfProducts', 'HasCrCard',\n",
       "       'IsActiveMember', 'EstimatedSalary', 'Exited'],\n",
       "      dtype='object')"
      ]
     },
     "execution_count": 6,
     "metadata": {},
     "output_type": "execute_result"
    }
   ],
   "source": [
    "df.columns"
   ]
  },
  {
   "cell_type": "markdown",
   "metadata": {
    "id": "H43Stsi2N9RI"
   },
   "source": [
    "## Identifying Categorical and Numerical features"
   ]
  },
  {
   "cell_type": "code",
   "execution_count": 7,
   "metadata": {
    "id": "327LGsZQNeG_",
    "tags": []
   },
   "outputs": [],
   "source": [
    "categorical_features = df.select_dtypes(include=['object', 'category'])\n",
    "numerical_features = df.select_dtypes(include=['int', 'float'])"
   ]
  },
  {
   "cell_type": "code",
   "execution_count": 8,
   "metadata": {
    "colab": {
     "base_uri": "https://localhost:8080/"
    },
    "executionInfo": {
     "elapsed": 377,
     "status": "ok",
     "timestamp": 1701448280998,
     "user": {
      "displayName": "Chukwuebuka Michael Ezeokeke",
      "userId": "10586870854610730309"
     },
     "user_tz": 540
    },
    "id": "LRyIeg8oODun",
    "outputId": "05ddc963-3003-4d5c-d697-757e5c11c6a1",
    "tags": []
   },
   "outputs": [
    {
     "name": "stdout",
     "output_type": "stream",
     "text": [
      "Categorical Variables:\n",
      "Index(['Surname', 'Geography', 'Gender'], dtype='object')\n",
      "\n",
      "Numerical Variables:\n",
      "Index(['RowNumber', 'CustomerId', 'CreditScore', 'Age', 'Tenure', 'Balance',\n",
      "       'NumOfProducts', 'HasCrCard', 'IsActiveMember', 'EstimatedSalary',\n",
      "       'Exited'],\n",
      "      dtype='object')\n"
     ]
    }
   ],
   "source": [
    "print(\"Categorical Variables:\")\n",
    "print(categorical_features.columns)\n",
    "\n",
    "print(\"\\nNumerical Variables:\")\n",
    "print(numerical_features.columns)"
   ]
  },
  {
   "cell_type": "markdown",
   "metadata": {
    "id": "K7ukydf9OOl-"
   },
   "source": [
    "These are the categorical and numerical fetaures in this data"
   ]
  },
  {
   "cell_type": "markdown",
   "metadata": {
    "id": "dTSgH3JOOg6b"
   },
   "source": [
    "## The continous and discrete variables"
   ]
  },
  {
   "cell_type": "code",
   "execution_count": 9,
   "metadata": {
    "colab": {
     "base_uri": "https://localhost:8080/"
    },
    "executionInfo": {
     "elapsed": 363,
     "status": "ok",
     "timestamp": 1701448507120,
     "user": {
      "displayName": "Chukwuebuka Michael Ezeokeke",
      "userId": "10586870854610730309"
     },
     "user_tz": 540
    },
    "id": "Vzd9UYeEOGfU",
    "outputId": "f3ba3268-d85b-44d6-8a2d-8ad268999921",
    "tags": []
   },
   "outputs": [
    {
     "name": "stdout",
     "output_type": "stream",
     "text": [
      "Continuous Variables:\n",
      "['RowNumber', 'CustomerId', 'CreditScore', 'Age', 'Balance', 'EstimatedSalary']\n",
      "\n",
      "Discrete Variables:\n",
      "['Tenure', 'NumOfProducts', 'HasCrCard', 'IsActiveMember', 'Exited']\n"
     ]
    }
   ],
   "source": [
    "# Identify continuous and discrete variables\n",
    "continuous_vars = []\n",
    "discrete_vars = []\n",
    "\n",
    "for column in df.columns:\n",
    "    if df[column].dtype == 'int64' or df[column].dtype == 'float64':\n",
    "        if len(df[column].unique()) > 20:\n",
    "            continuous_vars.append(column)\n",
    "        else:\n",
    "            discrete_vars.append(column)\n",
    "\n",
    "# Print the identified variables\n",
    "print(\"Continuous Variables:\")\n",
    "print(continuous_vars)\n",
    "\n",
    "print(\"\\nDiscrete Variables:\")\n",
    "print(discrete_vars)"
   ]
  },
  {
   "cell_type": "markdown",
   "metadata": {
    "id": "CHBUg2TpP31k"
   },
   "source": [
    "## Analysis on these variables to understand the data"
   ]
  },
  {
   "cell_type": "code",
   "execution_count": 10,
   "metadata": {
    "colab": {
     "base_uri": "https://localhost:8080/",
     "height": 564
    },
    "executionInfo": {
     "elapsed": 477,
     "status": "ok",
     "timestamp": 1701449012264,
     "user": {
      "displayName": "Chukwuebuka Michael Ezeokeke",
      "userId": "10586870854610730309"
     },
     "user_tz": 540
    },
    "id": "DP5LSDelOdXB",
    "outputId": "c2361dce-23b3-42a8-c8ef-5f911b75b730",
    "tags": []
   },
   "outputs": [
    {
     "data": {
      "image/png": "[encoded data removed]",
      "text/plain": [
       "<Figure size 800x600 with 1 Axes>"
      ]
     },
     "metadata": {},
     "output_type": "display_data"
    }
   ],
   "source": [
    "# Distribution of customers across different geographical locations\n",
    "import seaborn as sns\n",
    "geo_distribution = df['Geography'].value_counts()\n",
    "\n",
    "# Plotting the distribution\n",
    "plt.figure(figsize=(8, 6))\n",
    "sns.countplot(x='Geography', data=df, order=geo_distribution.index)\n",
    "plt.title('Distribution of Customers Across Geographical Locations')\n",
    "plt.xlabel('Geography')\n",
    "plt.ylabel('Number of Customers')\n",
    "plt.show()"
   ]
  },
  {
   "cell_type": "markdown",
   "metadata": {
    "id": "xBU7QYUJSovg"
   },
   "source": [
    "Observation: These are the countries which the customers are based in"
   ]
  },
  {
   "cell_type": "code",
   "execution_count": 11,
   "metadata": {
    "colab": {
     "base_uri": "https://localhost:8080/",
     "height": 564
    },
    "executionInfo": {
     "elapsed": 683,
     "status": "ok",
     "timestamp": 1701449524387,
     "user": {
      "displayName": "Chukwuebuka Michael Ezeokeke",
      "userId": "10586870854610730309"
     },
     "user_tz": 540
    },
    "id": "iHBjDACLSkMV",
    "outputId": "a2400916-375f-4a7f-8187-48e4b8ad45c0",
    "tags": []
   },
   "outputs": [
    {
     "data": {
      "image/png": "[encoded data removed]",
      "text/plain": [
       "<Figure size 800x600 with 1 Axes>"
      ]
     },
     "metadata": {},
     "output_type": "display_data"
    }
   ],
   "source": [
    "# Patterns in customer churn based on geography\n",
    "plt.figure(figsize=(8, 6))\n",
    "sns.countplot(x='Geography', hue='Exited', data=df)\n",
    "plt.title('Customer Churn Patterns Based on Geography')\n",
    "plt.xlabel('Geography')\n",
    "plt.ylabel('Number of Customers')\n",
    "plt.legend(title='Exited', labels=['Not Churned', 'Churned'])\n",
    "plt.show()"
   ]
  },
  {
   "cell_type": "markdown",
   "metadata": {
    "id": "pcCo-1iRS7LG"
   },
   "source": [
    "Observation: The chart above displays the churn/not churn based on customers geography"
   ]
  },
  {
   "cell_type": "code",
   "execution_count": 12,
   "metadata": {
    "colab": {
     "base_uri": "https://localhost:8080/",
     "height": 556
    },
    "executionInfo": {
     "elapsed": 451,
     "status": "ok",
     "timestamp": 1701449827125,
     "user": {
      "displayName": "Chukwuebuka Michael Ezeokeke",
      "userId": "10586870854610730309"
     },
     "user_tz": 540
    },
    "id": "PeqJWjT7S1_X",
    "outputId": "08c6fe0a-9203-456d-e60d-88b33a3213e0",
    "tags": []
   },
   "outputs": [
    {
     "name": "stdout",
     "output_type": "stream",
     "text": [
      "Gender Distribution:\n",
      "Gender\n",
      "Male      5457\n",
      "Female    4543\n",
      "Name: count, dtype: int64\n"
     ]
    },
    {
     "data": {
      "image/png": "[encoded data removed]",
      "text/plain": [
       "<Figure size 800x500 with 1 Axes>"
      ]
     },
     "metadata": {},
     "output_type": "display_data"
    }
   ],
   "source": [
    "gender_distribution = df['Gender'].value_counts()\n",
    "\n",
    "# Displaying the counts\n",
    "print(\"Gender Distribution:\")\n",
    "print(gender_distribution)\n",
    "\n",
    "# Plotting the distribution\n",
    "plt.figure(figsize=(8, 5))\n",
    "sns.countplot(x='Gender', data=df, palette='viridis')\n",
    "plt.title('Gender Distribution Among Customers')\n",
    "plt.xlabel('Gender')\n",
    "plt.ylabel('Count')\n",
    "plt.show()"
   ]
  },
  {
   "cell_type": "markdown",
   "metadata": {
    "id": "8CewwrKvUETd"
   },
   "source": [
    "Observation: The male gender is higher than female in this data"
   ]
  },
  {
   "cell_type": "code",
   "execution_count": 13,
   "metadata": {
    "colab": {
     "base_uri": "https://localhost:8080/"
    },
    "executionInfo": {
     "elapsed": 561,
     "status": "ok",
     "timestamp": 1701450162422,
     "user": {
      "displayName": "Chukwuebuka Michael Ezeokeke",
      "userId": "10586870854610730309"
     },
     "user_tz": 540
    },
    "id": "UUASFz8mUaA6",
    "outputId": "48c9f80f-7eaa-4952-9a16-69028bc9fb8a",
    "tags": []
   },
   "outputs": [
    {
     "name": "stdout",
     "output_type": "stream",
     "text": [
      "Correlation Coefficient between Gender and Credit Score: -0.0028566201204472974\n"
     ]
    }
   ],
   "source": [
    "from sklearn.preprocessing import LabelEncoder\n",
    "# Encode 'Gender' column into numerical values\n",
    "label_encoder = LabelEncoder()\n",
    "df['Gender_encoded'] = label_encoder.fit_transform(df['Gender'])\n",
    "\n",
    "# Calculate the correlation coefficient\n",
    "correlation_coefficient = df['Gender_encoded'].corr(df['CreditScore'])\n",
    "\n",
    "# Displaying the correlation coefficient\n",
    "print(\"Correlation Coefficient between Gender and Credit Score:\", correlation_coefficient)\n"
   ]
  },
  {
   "cell_type": "markdown",
   "metadata": {
    "id": "kjhf33bEVy2a"
   },
   "source": [
    "Observation:\n",
    "\n",
    "The correlation coefficient quantifies the strength and direction of a linear relationship between two variables.\n",
    "\n",
    "The correlation coefficient between gender and credit score is approximately -0.0029.\n",
    "\n",
    "This suggests a very weak negative correlation, indicating a minimal tendency for credit scores to decrease, though the relationship is almost negligible.\n",
    "\n",
    "The data implies that gender has little to no significant impact on predicting variations in credit scores."
   ]
  },
  {
   "cell_type": "markdown",
   "metadata": {},
   "source": [
    "- What is the average credit score of customers?\n",
    "- How does the credit score vary for customers who exited vs. those who didn't?"
   ]
  },
  {
   "cell_type": "code",
   "execution_count": 14,
   "metadata": {
    "colab": {
     "base_uri": "https://localhost:8080/"
    },
    "executionInfo": {
     "elapsed": 1224,
     "status": "ok",
     "timestamp": 1701450728178,
     "user": {
      "displayName": "Chukwuebuka Michael Ezeokeke",
      "userId": "10586870854610730309"
     },
     "user_tz": 540
    },
    "id": "5U1lpBjkU8LP",
    "outputId": "08424f10-47cf-486c-9428-cf009a359f54",
    "tags": []
   },
   "outputs": [
    {
     "name": "stdout",
     "output_type": "stream",
     "text": [
      "The average credit score of customers is: 650.53\n",
      "\n",
      "Credit Score Statistics for Customers who Exited:\n",
      "count    2037.000000\n",
      "mean      645.351497\n",
      "std       100.321503\n",
      "min       350.000000\n",
      "25%       578.000000\n",
      "50%       646.000000\n",
      "75%       716.000000\n",
      "max       850.000000\n",
      "Name: CreditScore, dtype: float64\n",
      "\n",
      "Credit Score Statistics for Customers who Didn't Exit:\n",
      "count    7963.000000\n",
      "mean      651.853196\n",
      "std        95.653837\n",
      "min       405.000000\n",
      "25%       585.000000\n",
      "50%       653.000000\n",
      "75%       718.000000\n",
      "max       850.000000\n",
      "Name: CreditScore, dtype: float64\n"
     ]
    }
   ],
   "source": [
    "average_credit_score = df['CreditScore'].mean()\n",
    "print(f\"The average credit score of customers is: {average_credit_score:.2f}\")\n",
    "\n",
    "\n",
    "exited_credit_score = df[df['Exited'] == 1]['CreditScore']\n",
    "not_exited_credit_score = df[df['Exited'] == 0]['CreditScore']\n",
    "\n",
    "\n",
    "print(\"\\nCredit Score Statistics for Customers who Exited:\")\n",
    "print(exited_credit_score.describe())\n",
    "\n",
    "print(\"\\nCredit Score Statistics for Customers who Didn't Exit:\")\n",
    "print(not_exited_credit_score.describe())"
   ]
  },
  {
   "cell_type": "markdown",
   "metadata": {
    "id": "KpFKFy5XXzfu"
   },
   "source": [
    "Observation:\n",
    "\n",
    "2037 Customers churned\n",
    "\n",
    "7963 Customers didn't exit\n"
   ]
  },
  {
   "cell_type": "markdown",
   "metadata": {
    "id": "UXE6b6xzZ9hW"
   },
   "source": [
    "## How long, on average, do customers stay with the bank (tenure)?"
   ]
  },
  {
   "cell_type": "code",
   "execution_count": 15,
   "metadata": {
    "colab": {
     "base_uri": "https://localhost:8080/"
    },
    "executionInfo": {
     "elapsed": 987,
     "status": "ok",
     "timestamp": 1701451399265,
     "user": {
      "displayName": "Chukwuebuka Michael Ezeokeke",
      "userId": "10586870854610730309"
     },
     "user_tz": 540
    },
    "id": "aV3I9RZlYyo8",
    "outputId": "ab829153-8c66-4d3a-fb14-8f76e90a2b6f",
    "tags": []
   },
   "outputs": [
    {
     "name": "stdout",
     "output_type": "stream",
     "text": [
      "Average Tenure: 5.01 years\n"
     ]
    }
   ],
   "source": [
    "# Calculate the average tenure\n",
    "average_tenure = df['Tenure'].mean()\n",
    "print(f\"Average Tenure: {average_tenure:.2f} years\")"
   ]
  },
  {
   "cell_type": "markdown",
   "metadata": {
    "id": "6iaU-DTZaneu"
   },
   "source": [
    "## Are there tenure patterns related to customer churn?"
   ]
  },
  {
   "cell_type": "code",
   "execution_count": 16,
   "metadata": {
    "colab": {
     "base_uri": "https://localhost:8080/"
    },
    "executionInfo": {
     "elapsed": 421,
     "status": "ok",
     "timestamp": 1701451528514,
     "user": {
      "displayName": "Chukwuebuka Michael Ezeokeke",
      "userId": "10586870854610730309"
     },
     "user_tz": 540
    },
    "id": "7HysSsw7Zq86",
    "outputId": "d6fbdcea-0e16-489c-dfaf-75e995840441",
    "tags": []
   },
   "outputs": [
    {
     "name": "stdout",
     "output_type": "stream",
     "text": [
      "T-Statistic: -1.3843\n",
      "P-Value: 0.1664\n",
      "There is no significant difference in tenure patterns between customers who exited and those who didn't.\n"
     ]
    }
   ],
   "source": [
    "from scipy.stats import ttest_ind\n",
    "exited_tenure = df[df['Exited'] == 1]['Tenure']\n",
    "not_exited_tenure = df[df['Exited'] == 0]['Tenure']\n",
    "\n",
    "# Perform a t-test\n",
    "t_stat, p_value = ttest_ind(exited_tenure, not_exited_tenure, equal_var=False)\n",
    "\n",
    "# Display results\n",
    "print(f\"T-Statistic: {t_stat:.4f}\")\n",
    "print(f\"P-Value: {p_value:.4f}\")\n",
    "\n",
    "# Interpret the results\n",
    "if p_value < 0.05:\n",
    "    print(\"There is a significant difference in tenure patterns between customers who exited and those who didn't.\")\n",
    "else:\n",
    "    print(\"There is no significant difference in tenure patterns between customers who exited and those who didn't.\")\n"
   ]
  },
  {
   "cell_type": "code",
   "execution_count": 17,
   "metadata": {
    "colab": {
     "base_uri": "https://localhost:8080/"
    },
    "executionInfo": {
     "elapsed": 361,
     "status": "ok",
     "timestamp": 1701452111039,
     "user": {
      "displayName": "Chukwuebuka Michael Ezeokeke",
      "userId": "10586870854610730309"
     },
     "user_tz": 540
    },
    "id": "7E78fMa9aX3I",
    "outputId": "da3684d4-88e0-49d2-9f87-392440e90fe4",
    "tags": []
   },
   "outputs": [
    {
     "name": "stdout",
     "output_type": "stream",
     "text": [
      "Correlation between Account Balance and Number of Products: -0.3041797383605491\n"
     ]
    }
   ],
   "source": [
    "# Calculating the correlation between account balance and the number of products\n",
    "correlation_balance_products = df['Balance'].corr(df['NumOfProducts'])\n",
    "\n",
    "print(f\"Correlation between Account Balance and Number of Products: {correlation_balance_products}\")\n"
   ]
  },
  {
   "cell_type": "markdown",
   "metadata": {
    "id": "75vnJqWsdh68"
   },
   "source": [
    "Observation:\n",
    "\n",
    "The correlation coefficient of -0.30417973836055023 denotes a moderate negative correlation between account balance and the number of products.\n",
    "\n",
    "The negative sign indicates an inverse relationship, suggesting that as account balance increases, the number of products tends to decrease to a moderate extent. While the correlation is not highly pronounced, it implies a discernible tendency for customers with higher account balances to exhibit a comparatively lower number of products within the observed dataset."
   ]
  },
  {
   "cell_type": "markdown",
   "metadata": {
    "id": "ocFFvwiedZJA"
   },
   "source": [
    "## How does the number of products vary between active and inactive members?"
   ]
  },
  {
   "cell_type": "code",
   "execution_count": 18,
   "metadata": {
    "colab": {
     "base_uri": "https://localhost:8080/"
    },
    "executionInfo": {
     "elapsed": 507,
     "status": "ok",
     "timestamp": 1701452804066,
     "user": {
      "displayName": "Chukwuebuka Michael Ezeokeke",
      "userId": "10586870854610730309"
     },
     "user_tz": 540
    },
    "id": "Yk5S4it4ehX0",
    "outputId": "f26aeae4-91fe-4fa7-e0b2-258cc8a554b8",
    "tags": []
   },
   "outputs": [
    {
     "name": "stdout",
     "output_type": "stream",
     "text": [
      "The average number of products for active members is: 1.5356241506503592\n",
      "The average number of products for inactive members is: 1.5244380284594763\n"
     ]
    }
   ],
   "source": [
    "# Assuming 'IsActiveMember' is a binary variable (1 for active, 0 for inactive)\n",
    "products_active = df.loc[df['IsActiveMember'] == 1, 'NumOfProducts']\n",
    "products_inactive = df.loc[df['IsActiveMember'] == 0, 'NumOfProducts']\n",
    "\n",
    "# Calculate averages for active and inactive members\n",
    "average_active = products_active.mean()\n",
    "average_inactive = products_inactive.mean()\n",
    "\n",
    "print(f\"The average number of products for active members is: {average_active}\")\n",
    "print(f\"The average number of products for inactive members is: {average_inactive}\")\n"
   ]
  },
  {
   "cell_type": "markdown",
   "metadata": {
    "id": "SywEJVB8fxGX"
   },
   "source": [
    "- What percentage of customers have a credit card?\n",
    "\n",
    "- Is there a relationship between having a credit card and customer churn?"
   ]
  },
  {
   "cell_type": "code",
   "execution_count": 19,
   "metadata": {
    "colab": {
     "base_uri": "https://localhost:8080/"
    },
    "executionInfo": {
     "elapsed": 421,
     "status": "ok",
     "timestamp": 1701453333056,
     "user": {
      "displayName": "Chukwuebuka Michael Ezeokeke",
      "userId": "10586870854610730309"
     },
     "user_tz": 540
    },
    "id": "V_qpElnmencU",
    "outputId": "77f88119-f595-473b-c64c-ec1f8e623464",
    "tags": []
   },
   "outputs": [
    {
     "name": "stdout",
     "output_type": "stream",
     "text": [
      "Percentage of customers with a credit card: 70.55%\n"
     ]
    }
   ],
   "source": [
    "# Calculate the percentage of customers with a credit card\n",
    "percentage_with_credit_card = (df['HasCrCard'].sum() / df['HasCrCard'].count()) * 100\n",
    "print(f\"Percentage of customers with a credit card: {percentage_with_credit_card:.2f}%\")"
   ]
  },
  {
   "cell_type": "markdown",
   "metadata": {
    "id": "ibQKUzS-hbmn"
   },
   "source": [
    "Observation: The percentage of customers with credit card is 70.55%"
   ]
  },
  {
   "cell_type": "code",
   "execution_count": 20,
   "metadata": {
    "colab": {
     "base_uri": "https://localhost:8080/"
    },
    "executionInfo": {
     "elapsed": 1752,
     "status": "ok",
     "timestamp": 1701453069029,
     "user": {
      "displayName": "Chukwuebuka Michael Ezeokeke",
      "userId": "10586870854610730309"
     },
     "user_tz": 540
    },
    "id": "dtltZtn-flvu",
    "outputId": "204529be-e99c-4908-cadc-1c317c417414",
    "tags": []
   },
   "outputs": [
    {
     "name": "stdout",
     "output_type": "stream",
     "text": [
      "Chi-square value: 0.4713\n",
      "P-value: 0.4924\n",
      "There is no significant relationship between having a credit card and customer churn.\n"
     ]
    }
   ],
   "source": [
    "from scipy.stats import chi2_contingency\n",
    "\n",
    "# Create a contingency table for the Chi-square test\n",
    "contingency_table = pd.crosstab(df['HasCrCard'], df['Exited'])\n",
    "\n",
    "# Perform the Chi-square test\n",
    "chi2, p, _, _ = chi2_contingency(contingency_table)\n",
    "\n",
    "\n",
    "print(f\"Chi-square value: {chi2:.4f}\")\n",
    "print(f\"P-value: {p:.4f}\")\n",
    "\n",
    "\n",
    "alpha = 0.05\n",
    "\n",
    "# Check if the p-value is less than the significance level\n",
    "if p < alpha:\n",
    "    print(\"There is a significant relationship between having a credit card and customer churn.\")\n",
    "else:\n",
    "    print(\"There is no significant relationship between having a credit card and customer churn.\")\n"
   ]
  },
  {
   "cell_type": "markdown",
   "metadata": {
    "id": "d5vuTQVkgi7n"
   },
   "source": [
    "Observation:\n",
    "\n",
    "In a chi-square test, the p-value is a measure of the evidence against a null hypothesis. The null hypothesis in a chi-square test typically posits that there is no association or difference between the categorical variables being studied.\n",
    "\n",
    "Given that the p value is not less than alpha (0.05), then i wil fail to reject the null hypthesis\n",
    "\n",
    "Therefore there is no significant relationship or association between having a credit card and a customer churning"
   ]
  },
  {
   "cell_type": "markdown",
   "metadata": {
    "id": "s0M72Y3LiwjS"
   },
   "source": [
    "- What proportion of customers are active members?\n",
    "\n",
    "- How does customer activity relate to their credit score?"
   ]
  },
  {
   "cell_type": "code",
   "execution_count": 21,
   "metadata": {
    "colab": {
     "base_uri": "https://localhost:8080/"
    },
    "executionInfo": {
     "elapsed": 1246,
     "status": "ok",
     "timestamp": 1701453553106,
     "user": {
      "displayName": "Chukwuebuka Michael Ezeokeke",
      "userId": "10586870854610730309"
     },
     "user_tz": 540
    },
    "id": "Ao_O4kZpgTGu",
    "outputId": "bbdad3f8-c281-44d6-d707-d4d688af0aee",
    "tags": []
   },
   "outputs": [
    {
     "name": "stdout",
     "output_type": "stream",
     "text": [
      "The proportion of active members is: 51.51%\n"
     ]
    }
   ],
   "source": [
    "total_customers = len(df)\n",
    "active_members = df['IsActiveMember'].sum()\n",
    "\n",
    "proportion_active_members = active_members / total_customers\n",
    "print(f\"The proportion of active members is: {proportion_active_members:.2%}\")"
   ]
  },
  {
   "cell_type": "code",
   "execution_count": 22,
   "metadata": {
    "colab": {
     "base_uri": "https://localhost:8080/"
    },
    "executionInfo": {
     "elapsed": 713,
     "status": "ok",
     "timestamp": 1701453668154,
     "user": {
      "displayName": "Chukwuebuka Michael Ezeokeke",
      "userId": "10586870854610730309"
     },
     "user_tz": 540
    },
    "id": "idlJWBfGiNOB",
    "outputId": "41a7caed-c4e5-4561-84ab-accb3bf64706"
   },
   "outputs": [
    {
     "name": "stdout",
     "output_type": "stream",
     "text": [
      "The correlation between customer activity and credit score is: 0.03\n"
     ]
    }
   ],
   "source": [
    "correlation = df['IsActiveMember'].corr(df['CreditScore'])\n",
    "\n",
    "print(f\"The correlation between customer activity and credit score is: {correlation:.2f}\")\n"
   ]
  },
  {
   "cell_type": "markdown",
   "metadata": {
    "id": "QBpV3G1XjDVl"
   },
   "source": [
    "Observation:\n",
    "\n",
    "A correlation coefficient of 0.03 between customer activity and credit score suggests a very weak positive linear relationship.\n",
    "\n",
    "The value is close to zero, indicating that there is minimal association between these two variables.\n",
    "\n",
    "Changes in one variable (customer activity) are not significantly predicting or explaining changes in the other variable (credit score), and vice versa."
   ]
  },
  {
   "cell_type": "markdown",
   "metadata": {
    "id": "sQrd8uxJqfTD"
   },
   "source": [
    "# The relationship between geography and customer churn"
   ]
  },
  {
   "cell_type": "code",
   "execution_count": 23,
   "metadata": {
    "colab": {
     "base_uri": "https://localhost:8080/"
    },
    "executionInfo": {
     "elapsed": 382,
     "status": "ok",
     "timestamp": 1701454076090,
     "user": {
      "displayName": "Chukwuebuka Michael Ezeokeke",
      "userId": "10586870854610730309"
     },
     "user_tz": 540
    },
    "id": "uV-a4BIHinpF",
    "outputId": "95d2040c-6c0e-4e8f-8c71-993ed2bf26c1"
   },
   "outputs": [
    {
     "name": "stdout",
     "output_type": "stream",
     "text": [
      "             Exited\n",
      "Geography          \n",
      "France     0.161548\n",
      "Germany    0.324432\n",
      "Spain      0.166734\n"
     ]
    }
   ],
   "source": [
    "# Pivot Table - Geography vs. Exited\n",
    "geo_exit_pivot = pd.pivot_table(df, values='Exited', index='Geography', aggfunc='mean')\n",
    "\n",
    "\n",
    "print(geo_exit_pivot)"
   ]
  },
  {
   "cell_type": "markdown",
   "metadata": {
    "id": "C0U5z5BPowLW"
   },
   "source": [
    "Observation:\n",
    "Germany ranks higher in this analysis. The bank should aim to improve its service to its Customers based in Germany"
   ]
  },
  {
   "cell_type": "markdown",
   "metadata": {
    "id": "e7R01dVCqruk"
   },
   "source": [
    "# Analyze the average credit score based on gender."
   ]
  },
  {
   "cell_type": "code",
   "execution_count": 24,
   "metadata": {
    "colab": {
     "base_uri": "https://localhost:8080/"
    },
    "executionInfo": {
     "elapsed": 433,
     "status": "ok",
     "timestamp": 1701455913098,
     "user": {
      "displayName": "Chukwuebuka Michael Ezeokeke",
      "userId": "10586870854610730309"
     },
     "user_tz": 540
    },
    "id": "tozNeO9okNTv",
    "outputId": "bae6876f-2279-409a-979d-e08717cc537b"
   },
   "outputs": [
    {
     "name": "stdout",
     "output_type": "stream",
     "text": [
      "        CreditScore\n",
      "Gender             \n",
      "Female   650.831389\n",
      "Male     650.276892\n"
     ]
    }
   ],
   "source": [
    "# Pivot Table - Gender vs. CreditScore\n",
    "gender_credit= pd.pivot_table(df, values='CreditScore', index='Gender', aggfunc='mean')\n",
    "\n",
    "print(gender_credit)"
   ]
  },
  {
   "cell_type": "markdown",
   "metadata": {
    "id": "-JSXT1VwrR11"
   },
   "source": [
    "Observation:\n",
    "\n",
    "There's no significant difference between the both gender's average credit score"
   ]
  },
  {
   "cell_type": "markdown",
   "metadata": {
    "id": "liboXqTmwa0T"
   },
   "source": [
    "# Relationship between Age and Churn"
   ]
  },
  {
   "cell_type": "code",
   "execution_count": 25,
   "metadata": {
    "colab": {
     "base_uri": "https://localhost:8080/"
    },
    "executionInfo": {
     "elapsed": 618,
     "status": "ok",
     "timestamp": 1701456364410,
     "user": {
      "displayName": "Chukwuebuka Michael Ezeokeke",
      "userId": "10586870854610730309"
     },
     "user_tz": 540
    },
    "id": "hdyYJyqrsS9e",
    "outputId": "2274fc82-59e6-4d91-d232-ec6586a59d91"
   },
   "outputs": [
    {
     "name": "stdout",
     "output_type": "stream",
     "text": [
      "T-test Statistic: 29.76681499437077\n",
      "P-value: 1.2399313093427738e-186\n",
      "There is a significant difference in the average age between customers who exited and those who didn't.\n"
     ]
    }
   ],
   "source": [
    "# Separate data for customers who exited and those who didn't\n",
    "exited_age = df[df['Exited'] == 1]['Age']\n",
    "not_exited_age = df[df['Exited'] == 0]['Age']\n",
    "\n",
    "# Perform a t-test\n",
    "t_statistic, p_value = ttest_ind(exited_age, not_exited_age)\n",
    "\n",
    "\n",
    "print(f'T-test Statistic: {t_statistic}')\n",
    "print(f'P-value: {p_value}')\n",
    "\n",
    "# Interpret the results\n",
    "alpha = 0.05 \n",
    "if p_value < alpha:\n",
    "    print('There is a significant difference in the average age between customers who exited and those who didn\\'t.')\n",
    "else:\n",
    "    print('There is no significant difference in the average age between customers who exited and those who didn\\'t.')"
   ]
  },
  {
   "cell_type": "markdown",
   "metadata": {
    "id": "5ZXLuUv3ul6R"
   },
   "source": [
    "Observation:\n",
    "\n",
    "The t-test results strongly suggest that there is a meaningful and statistically significant difference in the average age between customers who exited and those who didn't in the studied population."
   ]
  },
  {
   "cell_type": "markdown",
   "metadata": {
    "id": "ZPeg2aLjx342"
   },
   "source": [
    "# Correlation analysis to understand the relationship between account balance and the number of products"
   ]
  },
  {
   "cell_type": "code",
   "execution_count": 26,
   "metadata": {
    "colab": {
     "base_uri": "https://localhost:8080/"
    },
    "executionInfo": {
     "elapsed": 402,
     "status": "ok",
     "timestamp": 1701457255553,
     "user": {
      "displayName": "Chukwuebuka Michael Ezeokeke",
      "userId": "10586870854610730309"
     },
     "user_tz": 540
    },
    "id": "mV1nrWDqrIUm",
    "outputId": "0b2f39f1-61b9-4b76-c377-dd5b170df02a"
   },
   "outputs": [
    {
     "name": "stdout",
     "output_type": "stream",
     "text": [
      "Correlation between Balance and NumOfProducts: -0.3041797383605491\n"
     ]
    }
   ],
   "source": [
    "# Perform correlation analysis\n",
    "correlation = df['Balance'].corr(df['NumOfProducts'])\n",
    "\n",
    "print(f\"Correlation between Balance and NumOfProducts: {correlation}\")"
   ]
  },
  {
   "cell_type": "markdown",
   "metadata": {
    "id": "UWcriciRyeaS"
   },
   "source": [
    "Observation:\n",
    "\n",
    "A negative correlation (-0.30417973836055023) indicates that there exists a tendency for a decrease in the account balance to be associated with a slight reduction in the number of products held by the customers."
   ]
  },
  {
   "cell_type": "code",
   "execution_count": 27,
   "metadata": {
    "colab": {
     "base_uri": "https://localhost:8080/"
    },
    "executionInfo": {
     "elapsed": 509,
     "status": "ok",
     "timestamp": 1701458709164,
     "user": {
      "displayName": "Chukwuebuka Michael Ezeokeke",
      "userId": "10586870854610730309"
     },
     "user_tz": 540
    },
    "id": "enw_QDewwVi4",
    "outputId": "e839750d-c54d-4b9f-93ac-e40a9b04ac70"
   },
   "outputs": [
    {
     "name": "stdout",
     "output_type": "stream",
     "text": [
      "\n",
      "Chi-square Statistic: 242.98534164287963\n",
      "P-value: 8.785858269303703e-55\n",
      "Degrees of Freedom: 1\n",
      "Expected Frequencies Table:\n",
      "[[3861.2587  987.7413]\n",
      " [4101.7413 1049.2587]]\n"
     ]
    }
   ],
   "source": [
    "from scipy.stats import chi2_contingency\n",
    "\n",
    "contingency_table = pd.crosstab(df['IsActiveMember'], df['Exited'])\n",
    "\n",
    "\n",
    "chi2, p, dof, expected = chi2_contingency(contingency_table)\n",
    "\n",
    "# Display the results\n",
    "print(\"\\nChi-square Statistic:\", chi2)\n",
    "print(\"P-value:\", p)\n",
    "print(\"Degrees of Freedom:\", dof)\n",
    "print(\"Expected Frequencies Table:\")\n",
    "print(expected)"
   ]
  },
  {
   "cell_type": "markdown",
   "metadata": {
    "id": "NBELecGN3nQw"
   },
   "source": [
    "Observation:\n",
    "\n",
    "The chi-square statistic is 242.99, indicating a strong relationship between the variables.\n",
    "\n",
    "The p-value is 8.79e-55, highly statistically significant, suggesting that the relationship between the variables is unlikely to be due to chance. The degrees of freedom is 1.\n",
    "\n",
    "The expected frequencies table indicates that active members exhibit a different churn pattern than non-active members."
   ]
  },
  {
   "cell_type": "markdown",
   "metadata": {
    "id": "C_R9lWIvCZJr"
   },
   "source": [
    "## MACHINE LEARNING APPLICATION"
   ]
  },
  {
   "cell_type": "code",
   "execution_count": 75,
   "metadata": {
    "colab": {
     "base_uri": "https://localhost:8080/"
    },
    "executionInfo": {
     "elapsed": 2947,
     "status": "ok",
     "timestamp": 1701478948129,
     "user": {
      "displayName": "Chukwuebuka Michael Ezeokeke",
      "userId": "10586870854610730309"
     },
     "user_tz": 540
    },
    "id": "iZ1cbz6o1vqS",
    "outputId": "69653fd7-d039-4424-fb22-dc7a0d1bce73",
    "tags": []
   },
   "outputs": [
    {
     "name": "stdout",
     "output_type": "stream",
     "text": [
      "0:\tlearn: 0.6124146\ttest: 0.6122107\tbest: 0.6122107 (0)\ttotal: 6ms\tremaining: 2.99s\n",
      "100:\tlearn: 0.2882958\ttest: 0.3178783\tbest: 0.3177169 (92)\ttotal: 517ms\tremaining: 2.04s\n",
      "200:\tlearn: 0.2486924\ttest: 0.3219238\tbest: 0.3177169 (92)\ttotal: 1.03s\tremaining: 1.53s\n",
      "300:\tlearn: 0.2173920\ttest: 0.3242196\tbest: 0.3177169 (92)\ttotal: 1.57s\tremaining: 1.04s\n",
      "400:\tlearn: 0.1928418\ttest: 0.3267732\tbest: 0.3177169 (92)\ttotal: 2.06s\tremaining: 509ms\n",
      "499:\tlearn: 0.1710887\ttest: 0.3304752\tbest: 0.3177169 (92)\ttotal: 2.55s\tremaining: 0us\n",
      "\n",
      "bestTest = 0.3177169416\n",
      "bestIteration = 92\n",
      "\n",
      "Shrink model to first 93 iterations.\n",
      "Accuracy: 0.865\n",
      "\n",
      "Confusion Matrix:\n",
      "[[1540   67]\n",
      " [ 203  190]]\n",
      "\n",
      "Classification Report:\n",
      "              precision    recall  f1-score   support\n",
      "\n",
      "           0       0.88      0.96      0.92      1607\n",
      "           1       0.74      0.48      0.58       393\n",
      "\n",
      "    accuracy                           0.86      2000\n",
      "   macro avg       0.81      0.72      0.75      2000\n",
      "weighted avg       0.86      0.86      0.85      2000\n",
      "\n"
     ]
    }
   ],
   "source": [
    "import pandas as pd\n",
    "from sklearn.model_selection import train_test_split\n",
    "from sklearn.preprocessing import OneHotEncoder\n",
    "from catboost import CatBoostClassifier\n",
    "from sklearn.metrics import accuracy_score, classification_report, confusion_matrix\n",
    "\n",
    "# Separate categorical and numerical features\n",
    "categorical_cols = ['Geography', 'Gender']\n",
    "numerical_cols = ['CreditScore', 'Age', 'Tenure', 'Balance', 'NumOfProducts', 'HasCrCard', 'IsActiveMember', 'EstimatedSalary']\n",
    "\n",
    "# One-hot encode categorical variables\n",
    "encoder = OneHotEncoder(drop='first', sparse=False)\n",
    "encoded_categorical = pd.DataFrame(encoder.fit_transform(df[categorical_cols]), columns=encoder.get_feature_names_out(categorical_cols))\n",
    "df_encoded = pd.concat([df[numerical_cols], encoded_categorical], axis=1)\n",
    "\n",
    "X = df_encoded  # Features\n",
    "y = df['Exited']  # Target\n",
    "\n",
    "# Split the data into training and testing sets\n",
    "X_train, X_test, y_train, y_test = train_test_split(X, y, test_size=0.2, random_state=42)\n",
    "\n",
    "# Create a CatBoost classifier\n",
    "model = CatBoostClassifier(iterations=500, depth=6, learning_rate=0.1, loss_function='Logloss', verbose=100)\n",
    "\n",
    "# Train the model\n",
    "model.fit(X_train, y_train, eval_set=(X_test, y_test))\n",
    "\n",
    "# Make predictions on the test set\n",
    "y_pred = model.predict(X_test)\n",
    "\n",
    "# Evaluate the model\n",
    "accuracy = accuracy_score(y_test, y_pred)\n",
    "conf_matrix = confusion_matrix(y_test, y_pred)\n",
    "class_report = classification_report(y_test, y_pred)\n",
    "\n",
    "# Display evaluation metrics\n",
    "print(f\"Accuracy: {accuracy}\")\n",
    "print(f\"\\nConfusion Matrix:\\n{conf_matrix}\")\n",
    "print(f\"\\nClassification Report:\\n{class_report}\")\n"
   ]
  },
  {
   "cell_type": "markdown",
   "metadata": {
    "id": "p5N9HqrYjZrO"
   },
   "source": [
    "**Accuracy is a commonly used metric for evaluating binary classification models, but it may not always be the best choice, especially when dealing with imbalanced datasets. Other metrics that can be used include precision, recall, F1 score, ROC-AUC, and Matthews Correlation Coefficient (MCC)**"
   ]
  },
  {
   "cell_type": "code",
   "execution_count": 76,
   "metadata": {
    "colab": {
     "base_uri": "https://localhost:8080/"
    },
    "executionInfo": {
     "elapsed": 629,
     "status": "ok",
     "timestamp": 1701478953733,
     "user": {
      "displayName": "Chukwuebuka Michael Ezeokeke",
      "userId": "10586870854610730309"
     },
     "user_tz": 540
    },
    "id": "QYawzUCrCtew",
    "outputId": "86ff20b8-b85e-4de5-ae64-33baeccf6f85",
    "tags": []
   },
   "outputs": [
    {
     "name": "stdout",
     "output_type": "stream",
     "text": [
      "Predicted Probabilities:\n",
      "[[0.94872618 0.05127382]\n",
      " [0.96768499 0.03231501]\n",
      " [0.88504772 0.11495228]\n",
      " [0.77384645 0.22615355]\n",
      " [0.92520941 0.07479059]]\n"
     ]
    }
   ],
   "source": [
    "# Get predicted probabilities for the test set\n",
    "probabilities = model.predict_proba(X_test)\n",
    "y_prob = probabilities\n",
    "# Display predicted probabilities for the first few samples\n",
    "print(\"Predicted Probabilities:\")\n",
    "print(probabilities[:5, :])"
   ]
  },
  {
   "cell_type": "code",
   "execution_count": 77,
   "metadata": {
    "colab": {
     "base_uri": "https://localhost:8080/"
    },
    "executionInfo": {
     "elapsed": 771,
     "status": "ok",
     "timestamp": 1701478957069,
     "user": {
      "displayName": "Chukwuebuka Michael Ezeokeke",
      "userId": "10586870854610730309"
     },
     "user_tz": 540
    },
    "id": "3_2kz-DoIflQ",
    "outputId": "68a15a72-2920-4637-ae3b-de26361f635a",
    "tags": []
   },
   "outputs": [
    {
     "data": {
      "text/plain": [
       "array([False, False, False, ...,  True, False, False])"
      ]
     },
     "execution_count": 77,
     "metadata": {},
     "output_type": "execute_result"
    }
   ],
   "source": [
    "y_pred = y_prob[:, 1] >= 0.5\n",
    "y_pred"
   ]
  },
  {
   "cell_type": "code",
   "execution_count": 78,
   "metadata": {
    "colab": {
     "base_uri": "https://localhost:8080/"
    },
    "executionInfo": {
     "elapsed": 21,
     "status": "ok",
     "timestamp": 1701478958978,
     "user": {
      "displayName": "Chukwuebuka Michael Ezeokeke",
      "userId": "10586870854610730309"
     },
     "user_tz": 540
    },
    "id": "vybRQmzbI2f0",
    "outputId": "867ad28c-6646-46c2-8581-5f85fceaeca2",
    "tags": []
   },
   "outputs": [
    {
     "data": {
      "text/plain": [
       "0.5846153846153846"
      ]
     },
     "execution_count": 78,
     "metadata": {},
     "output_type": "execute_result"
    }
   ],
   "source": [
    "from sklearn.metrics import f1_score, roc_auc_score\n",
    "f1_score(y_test, y_pred)"
   ]
  },
  {
   "cell_type": "code",
   "execution_count": 79,
   "metadata": {
    "colab": {
     "base_uri": "https://localhost:8080/"
    },
    "executionInfo": {
     "elapsed": 972,
     "status": "ok",
     "timestamp": 1701478961860,
     "user": {
      "displayName": "Chukwuebuka Michael Ezeokeke",
      "userId": "10586870854610730309"
     },
     "user_tz": 540
    },
    "id": "DzeEiuLnJCvf",
    "outputId": "c41b56e0-c878-4e4a-e179-3901311835dd",
    "tags": []
   },
   "outputs": [
    {
     "data": {
      "text/plain": [
       "0.8765974561040992"
      ]
     },
     "execution_count": 79,
     "metadata": {},
     "output_type": "execute_result"
    }
   ],
   "source": [
    "roc_auc_score(y_test, y_prob[:, 1])"
   ]
  },
  {
   "cell_type": "code",
   "execution_count": 80,
   "metadata": {
    "colab": {
     "base_uri": "https://localhost:8080/",
     "height": 790
    },
    "executionInfo": {
     "elapsed": 1179,
     "status": "ok",
     "timestamp": 1701464998489,
     "user": {
      "displayName": "Chukwuebuka Michael Ezeokeke",
      "userId": "10586870854610730309"
     },
     "user_tz": 540
    },
    "id": "M8Sh7jS4ND51",
    "outputId": "b5432ee3-4310-4b8d-f289-4b2b52338ae7"
   },
   "outputs": [
    {
     "name": "stdout",
     "output_type": "stream",
     "text": [
      "Feature Importance:\n",
      "              Feature  Importance\n",
      "4       NumOfProducts   29.576972\n",
      "1                 Age   22.220813\n",
      "3             Balance   12.759634\n",
      "8   Geography_Germany    8.156676\n",
      "6      IsActiveMember    7.933413\n",
      "7     EstimatedSalary    5.239826\n",
      "0         CreditScore    4.672086\n",
      "2              Tenure    4.098457\n",
      "10        Gender_Male    3.431148\n",
      "9     Geography_Spain    1.076888\n",
      "5           HasCrCard    0.834087\n"
     ]
    },
    {
     "data": {
      "image/png": "[encoded data removed]",
      "text/plain": [
       "<Figure size 1000x600 with 1 Axes>"
      ]
     },
     "metadata": {},
     "output_type": "display_data"
    }
   ],
   "source": [
    "# Get feature importance scores\n",
    "feature_importance = model.get_feature_importance()\n",
    "\n",
    "# Create a DataFrame to display feature importance\n",
    "feature_importance_df = pd.DataFrame({'Feature': X.columns, 'Importance': feature_importance})\n",
    "feature_importance_df = feature_importance_df.sort_values(by='Importance', ascending=False)\n",
    "\n",
    "# Display feature importance\n",
    "print(\"Feature Importance:\")\n",
    "print(feature_importance_df)\n",
    "\n",
    "# Plot feature importance\n",
    "plt.figure(figsize=(10, 6))\n",
    "plt.barh(feature_importance_df['Feature'], feature_importance_df['Importance'])\n",
    "plt.xlabel('Importance')\n",
    "plt.title('Feature Importance')\n",
    "plt.show()"
   ]
  },
  {
   "cell_type": "markdown",
   "metadata": {
    "id": "It4qAPWNFLz7"
   },
   "source": [
    "Observation:\n",
    "\n",
    "Based on the feature importance, NumOfProducts ranks higher"
   ]
  },
  {
   "cell_type": "code",
   "execution_count": 57,
   "metadata": {
    "tags": []
   },
   "outputs": [
    {
     "data": {
      "text/html": [
       "<div>\n",
       "<style scoped>\n",
       "    .dataframe tbody tr th:only-of-type {\n",
       "        vertical-align: middle;\n",
       "    }\n",
       "\n",
       "    .dataframe tbody tr th {\n",
       "        vertical-align: top;\n",
       "    }\n",
       "\n",
       "    .dataframe thead th {\n",
       "        text-align: right;\n",
       "    }\n",
       "</style>\n",
       "<table border=\"1\" class=\"dataframe\">\n",
       "  <thead>\n",
       "    <tr style=\"text-align: right;\">\n",
       "      <th></th>\n",
       "      <th>RowNumber</th>\n",
       "      <th>CustomerId</th>\n",
       "      <th>Surname</th>\n",
       "      <th>CreditScore</th>\n",
       "      <th>Geography</th>\n",
       "      <th>Gender</th>\n",
       "      <th>Age</th>\n",
       "      <th>Tenure</th>\n",
       "      <th>Balance</th>\n",
       "      <th>NumOfProducts</th>\n",
       "      <th>HasCrCard</th>\n",
       "      <th>IsActiveMember</th>\n",
       "      <th>EstimatedSalary</th>\n",
       "      <th>Exited</th>\n",
       "      <th>Gender_encoded</th>\n",
       "      <th>Probability_Not_Exited</th>\n",
       "      <th>Probability_Exited</th>\n",
       "    </tr>\n",
       "  </thead>\n",
       "  <tbody>\n",
       "    <tr>\n",
       "      <th>0</th>\n",
       "      <td>1</td>\n",
       "      <td>15634602</td>\n",
       "      <td>Hargrave</td>\n",
       "      <td>619</td>\n",
       "      <td>France</td>\n",
       "      <td>Female</td>\n",
       "      <td>42</td>\n",
       "      <td>2</td>\n",
       "      <td>0.00</td>\n",
       "      <td>1</td>\n",
       "      <td>1</td>\n",
       "      <td>1</td>\n",
       "      <td>101348.88</td>\n",
       "      <td>1</td>\n",
       "      <td>0</td>\n",
       "      <td>0.801319</td>\n",
       "      <td>0.198681</td>\n",
       "    </tr>\n",
       "    <tr>\n",
       "      <th>1</th>\n",
       "      <td>2</td>\n",
       "      <td>15647311</td>\n",
       "      <td>Hill</td>\n",
       "      <td>608</td>\n",
       "      <td>Spain</td>\n",
       "      <td>Female</td>\n",
       "      <td>41</td>\n",
       "      <td>1</td>\n",
       "      <td>83807.86</td>\n",
       "      <td>1</td>\n",
       "      <td>0</td>\n",
       "      <td>1</td>\n",
       "      <td>112542.58</td>\n",
       "      <td>0</td>\n",
       "      <td>0</td>\n",
       "      <td>0.649706</td>\n",
       "      <td>0.350294</td>\n",
       "    </tr>\n",
       "    <tr>\n",
       "      <th>2</th>\n",
       "      <td>3</td>\n",
       "      <td>15619304</td>\n",
       "      <td>Onio</td>\n",
       "      <td>502</td>\n",
       "      <td>France</td>\n",
       "      <td>Female</td>\n",
       "      <td>42</td>\n",
       "      <td>8</td>\n",
       "      <td>159660.80</td>\n",
       "      <td>3</td>\n",
       "      <td>1</td>\n",
       "      <td>0</td>\n",
       "      <td>113931.57</td>\n",
       "      <td>1</td>\n",
       "      <td>0</td>\n",
       "      <td>0.373684</td>\n",
       "      <td>0.626316</td>\n",
       "    </tr>\n",
       "    <tr>\n",
       "      <th>3</th>\n",
       "      <td>4</td>\n",
       "      <td>15701354</td>\n",
       "      <td>Boni</td>\n",
       "      <td>699</td>\n",
       "      <td>France</td>\n",
       "      <td>Female</td>\n",
       "      <td>39</td>\n",
       "      <td>1</td>\n",
       "      <td>0.00</td>\n",
       "      <td>2</td>\n",
       "      <td>0</td>\n",
       "      <td>0</td>\n",
       "      <td>93826.63</td>\n",
       "      <td>0</td>\n",
       "      <td>0</td>\n",
       "      <td>0.922085</td>\n",
       "      <td>0.077915</td>\n",
       "    </tr>\n",
       "    <tr>\n",
       "      <th>4</th>\n",
       "      <td>5</td>\n",
       "      <td>15737888</td>\n",
       "      <td>Mitchell</td>\n",
       "      <td>850</td>\n",
       "      <td>Spain</td>\n",
       "      <td>Female</td>\n",
       "      <td>43</td>\n",
       "      <td>2</td>\n",
       "      <td>125510.82</td>\n",
       "      <td>1</td>\n",
       "      <td>1</td>\n",
       "      <td>1</td>\n",
       "      <td>79084.10</td>\n",
       "      <td>0</td>\n",
       "      <td>0</td>\n",
       "      <td>0.704010</td>\n",
       "      <td>0.295990</td>\n",
       "    </tr>\n",
       "  </tbody>\n",
       "</table>\n",
       "</div>"
      ],
      "text/plain": [
       "   RowNumber  CustomerId   Surname  CreditScore Geography  Gender  Age  \\\n",
       "0          1    15634602  Hargrave          619    France  Female   42   \n",
       "1          2    15647311      Hill          608     Spain  Female   41   \n",
       "2          3    15619304      Onio          502    France  Female   42   \n",
       "3          4    15701354      Boni          699    France  Female   39   \n",
       "4          5    15737888  Mitchell          850     Spain  Female   43   \n",
       "\n",
       "   Tenure    Balance  NumOfProducts  HasCrCard  IsActiveMember  \\\n",
       "0       2       0.00              1          1               1   \n",
       "1       1   83807.86              1          0               1   \n",
       "2       8  159660.80              3          1               0   \n",
       "3       1       0.00              2          0               0   \n",
       "4       2  125510.82              1          1               1   \n",
       "\n",
       "   EstimatedSalary  Exited  Gender_encoded  Probability_Not_Exited  \\\n",
       "0        101348.88       1               0                0.801319   \n",
       "1        112542.58       0               0                0.649706   \n",
       "2        113931.57       1               0                0.373684   \n",
       "3         93826.63       0               0                0.922085   \n",
       "4         79084.10       0               0                0.704010   \n",
       "\n",
       "   Probability_Exited  \n",
       "0            0.198681  \n",
       "1            0.350294  \n",
       "2            0.626316  \n",
       "3            0.077915  \n",
       "4            0.295990  "
      ]
     },
     "execution_count": 57,
     "metadata": {},
     "output_type": "execute_result"
    }
   ],
   "source": [
    "probabilities = model.predict_proba(X_test)\n",
    "\n",
    "probabilities_df = pd.DataFrame(probabilities, columns=['Probability_Not_Exited', 'Probability_Exited'])\n",
    "\n",
    "result_df = pd.concat([df, probabilities_df], axis=1)\n",
    "\n",
    "# Display the result\n",
    "result_df.head()\n"
   ]
  },
  {
   "cell_type": "code",
   "execution_count": 49,
   "metadata": {
    "colab": {
     "base_uri": "https://localhost:8080/"
    },
    "executionInfo": {
     "elapsed": 674,
     "status": "ok",
     "timestamp": 1701479601603,
     "user": {
      "displayName": "Chukwuebuka Michael Ezeokeke",
      "userId": "10586870854610730309"
     },
     "user_tz": 540
    },
    "id": "Py3AVK8hNiON",
    "outputId": "35a64cb7-7f35-48ef-ca62-bd51981141cb",
    "tags": []
   },
   "outputs": [
    {
     "name": "stdout",
     "output_type": "stream",
     "text": [
      "Logistic Regression Model:\n",
      "Accuracy: 0.811\n",
      "\n",
      "Confusion Matrix:\n",
      "[[1543   64]\n",
      " [ 314   79]]\n",
      "\n",
      "Classification Report:\n",
      "              precision    recall  f1-score   support\n",
      "\n",
      "           0       0.83      0.96      0.89      1607\n",
      "           1       0.55      0.20      0.29       393\n",
      "\n",
      "    accuracy                           0.81      2000\n",
      "   macro avg       0.69      0.58      0.59      2000\n",
      "weighted avg       0.78      0.81      0.77      2000\n",
      "\n"
     ]
    }
   ],
   "source": [
    "from sklearn.model_selection import train_test_split\n",
    "from sklearn.preprocessing import OneHotEncoder, StandardScaler\n",
    "from sklearn.linear_model import LogisticRegression\n",
    "from sklearn.metrics import accuracy_score, classification_report, confusion_matrix\n",
    "\n",
    "categorical_cols = ['Geography', 'Gender']\n",
    "numerical_cols = ['CreditScore', 'Age', 'Tenure', 'Balance', 'NumOfProducts', 'HasCrCard', 'IsActiveMember', 'EstimatedSalary']\n",
    "\n",
    "# One-hot encode categorical variables\n",
    "encoder = OneHotEncoder(drop='first', sparse=False)\n",
    "encoded_categorical = pd.DataFrame(encoder.fit_transform(df[categorical_cols]), columns=encoder.get_feature_names_out(categorical_cols))\n",
    "df_encoded = pd.concat([df[numerical_cols], encoded_categorical], axis=1)\n",
    "\n",
    "# Standardize numerical features\n",
    "scaler = StandardScaler()\n",
    "df_encoded[numerical_cols] = scaler.fit_transform(df_encoded[numerical_cols])\n",
    "\n",
    "\n",
    "X = df_encoded  # Features\n",
    "y = df['Exited']  # Target\n",
    "\n",
    "# Split the data into training and testing sets\n",
    "X_train, X_test, y_train, y_test = train_test_split(X, y, test_size=0.2, random_state=42)\n",
    "\n",
    "# Create a Logistic Regression model\n",
    "logistic_model = LogisticRegression()\n",
    "\n",
    "# Train the model\n",
    "logistic_model.fit(X_train, y_train)\n",
    "\n",
    "# Make predictions on the test set\n",
    "y_pred_logistic = logistic_model.predict(X_test)\n",
    "\n",
    "# Evaluate the model\n",
    "accuracy_logistic = accuracy_score(y_test, y_pred_logistic)\n",
    "conf_matrix_logistic = confusion_matrix(y_test, y_pred_logistic)\n",
    "class_report_logistic = classification_report(y_test, y_pred_logistic)\n",
    "\n",
    "# Display evaluation metrics for Logistic Regression\n",
    "print(\"Logistic Regression Model:\")\n",
    "print(f\"Accuracy: {accuracy_logistic}\")\n",
    "print(f\"\\nConfusion Matrix:\\n{conf_matrix_logistic}\")\n",
    "print(f\"\\nClassification Report:\\n{class_report_logistic}\")\n"
   ]
  },
  {
   "cell_type": "code",
   "execution_count": 52,
   "metadata": {
    "tags": []
   },
   "outputs": [],
   "source": [
    "# Assuming X_test is your test data\n",
    "predicted_probabilities = logistic_model.predict_proba(X_test)"
   ]
  },
  {
   "cell_type": "code",
   "execution_count": 51,
   "metadata": {
    "tags": []
   },
   "outputs": [
    {
     "data": {
      "text/plain": [
       "array([0.7673572 , 0.92267574, 0.68447826, ..., 0.6650939 , 0.91863004,\n",
       "       0.83247099])"
      ]
     },
     "execution_count": 51,
     "metadata": {},
     "output_type": "execute_result"
    }
   ],
   "source": [
    "logistic_model.predict_proba(X_test)[:,0]"
   ]
  },
  {
   "cell_type": "code",
   "execution_count": 56,
   "metadata": {
    "tags": []
   },
   "outputs": [
    {
     "data": {
      "text/html": [
       "<div>\n",
       "<style scoped>\n",
       "    .dataframe tbody tr th:only-of-type {\n",
       "        vertical-align: middle;\n",
       "    }\n",
       "\n",
       "    .dataframe tbody tr th {\n",
       "        vertical-align: top;\n",
       "    }\n",
       "\n",
       "    .dataframe thead th {\n",
       "        text-align: right;\n",
       "    }\n",
       "</style>\n",
       "<table border=\"1\" class=\"dataframe\">\n",
       "  <thead>\n",
       "    <tr style=\"text-align: right;\">\n",
       "      <th></th>\n",
       "      <th>RowNumber</th>\n",
       "      <th>CustomerId</th>\n",
       "      <th>Surname</th>\n",
       "      <th>CreditScore</th>\n",
       "      <th>Geography</th>\n",
       "      <th>Gender</th>\n",
       "      <th>Age</th>\n",
       "      <th>Tenure</th>\n",
       "      <th>Balance</th>\n",
       "      <th>NumOfProducts</th>\n",
       "      <th>HasCrCard</th>\n",
       "      <th>IsActiveMember</th>\n",
       "      <th>EstimatedSalary</th>\n",
       "      <th>Exited</th>\n",
       "      <th>Gender_encoded</th>\n",
       "      <th>Probability_Not_Exited</th>\n",
       "      <th>Probability_Exited</th>\n",
       "    </tr>\n",
       "  </thead>\n",
       "  <tbody>\n",
       "    <tr>\n",
       "      <th>0</th>\n",
       "      <td>1</td>\n",
       "      <td>15634602</td>\n",
       "      <td>Hargrave</td>\n",
       "      <td>619</td>\n",
       "      <td>France</td>\n",
       "      <td>Female</td>\n",
       "      <td>42</td>\n",
       "      <td>2</td>\n",
       "      <td>0.00</td>\n",
       "      <td>1</td>\n",
       "      <td>1</td>\n",
       "      <td>1</td>\n",
       "      <td>101348.88</td>\n",
       "      <td>1</td>\n",
       "      <td>0</td>\n",
       "      <td>0.767357</td>\n",
       "      <td>0.232643</td>\n",
       "    </tr>\n",
       "    <tr>\n",
       "      <th>1</th>\n",
       "      <td>2</td>\n",
       "      <td>15647311</td>\n",
       "      <td>Hill</td>\n",
       "      <td>608</td>\n",
       "      <td>Spain</td>\n",
       "      <td>Female</td>\n",
       "      <td>41</td>\n",
       "      <td>1</td>\n",
       "      <td>83807.86</td>\n",
       "      <td>1</td>\n",
       "      <td>0</td>\n",
       "      <td>1</td>\n",
       "      <td>112542.58</td>\n",
       "      <td>0</td>\n",
       "      <td>0</td>\n",
       "      <td>0.922676</td>\n",
       "      <td>0.077324</td>\n",
       "    </tr>\n",
       "    <tr>\n",
       "      <th>2</th>\n",
       "      <td>3</td>\n",
       "      <td>15619304</td>\n",
       "      <td>Onio</td>\n",
       "      <td>502</td>\n",
       "      <td>France</td>\n",
       "      <td>Female</td>\n",
       "      <td>42</td>\n",
       "      <td>8</td>\n",
       "      <td>159660.80</td>\n",
       "      <td>3</td>\n",
       "      <td>1</td>\n",
       "      <td>0</td>\n",
       "      <td>113931.57</td>\n",
       "      <td>1</td>\n",
       "      <td>0</td>\n",
       "      <td>0.684478</td>\n",
       "      <td>0.315522</td>\n",
       "    </tr>\n",
       "    <tr>\n",
       "      <th>3</th>\n",
       "      <td>4</td>\n",
       "      <td>15701354</td>\n",
       "      <td>Boni</td>\n",
       "      <td>699</td>\n",
       "      <td>France</td>\n",
       "      <td>Female</td>\n",
       "      <td>39</td>\n",
       "      <td>1</td>\n",
       "      <td>0.00</td>\n",
       "      <td>2</td>\n",
       "      <td>0</td>\n",
       "      <td>0</td>\n",
       "      <td>93826.63</td>\n",
       "      <td>0</td>\n",
       "      <td>0</td>\n",
       "      <td>0.565735</td>\n",
       "      <td>0.434265</td>\n",
       "    </tr>\n",
       "    <tr>\n",
       "      <th>4</th>\n",
       "      <td>5</td>\n",
       "      <td>15737888</td>\n",
       "      <td>Mitchell</td>\n",
       "      <td>850</td>\n",
       "      <td>Spain</td>\n",
       "      <td>Female</td>\n",
       "      <td>43</td>\n",
       "      <td>2</td>\n",
       "      <td>125510.82</td>\n",
       "      <td>1</td>\n",
       "      <td>1</td>\n",
       "      <td>1</td>\n",
       "      <td>79084.10</td>\n",
       "      <td>0</td>\n",
       "      <td>0</td>\n",
       "      <td>0.932967</td>\n",
       "      <td>0.067033</td>\n",
       "    </tr>\n",
       "  </tbody>\n",
       "</table>\n",
       "</div>"
      ],
      "text/plain": [
       "   RowNumber  CustomerId   Surname  CreditScore Geography  Gender  Age  \\\n",
       "0          1    15634602  Hargrave          619    France  Female   42   \n",
       "1          2    15647311      Hill          608     Spain  Female   41   \n",
       "2          3    15619304      Onio          502    France  Female   42   \n",
       "3          4    15701354      Boni          699    France  Female   39   \n",
       "4          5    15737888  Mitchell          850     Spain  Female   43   \n",
       "\n",
       "   Tenure    Balance  NumOfProducts  HasCrCard  IsActiveMember  \\\n",
       "0       2       0.00              1          1               1   \n",
       "1       1   83807.86              1          0               1   \n",
       "2       8  159660.80              3          1               0   \n",
       "3       1       0.00              2          0               0   \n",
       "4       2  125510.82              1          1               1   \n",
       "\n",
       "   EstimatedSalary  Exited  Gender_encoded  Probability_Not_Exited  \\\n",
       "0        101348.88       1               0                0.767357   \n",
       "1        112542.58       0               0                0.922676   \n",
       "2        113931.57       1               0                0.684478   \n",
       "3         93826.63       0               0                0.565735   \n",
       "4         79084.10       0               0                0.932967   \n",
       "\n",
       "   Probability_Exited  \n",
       "0            0.232643  \n",
       "1            0.077324  \n",
       "2            0.315522  \n",
       "3            0.434265  \n",
       "4            0.067033  "
      ]
     },
     "execution_count": 56,
     "metadata": {},
     "output_type": "execute_result"
    }
   ],
   "source": [
    "probabilities = logistic_model.predict_proba(X_test)\n",
    "\n",
    "\n",
    "probabilities_df = pd.DataFrame(probabilities, columns=['Probability_Not_Exited', 'Probability_Exited'])\n",
    "\n",
    "\n",
    "result_df = pd.concat([df, probabilities_df], axis=1)\n",
    "\n",
    "# Display the result\n",
    "result_df.head()\n"
   ]
  },
  {
   "cell_type": "code",
   "execution_count": 59,
   "metadata": {
    "colab": {
     "base_uri": "https://localhost:8080/"
    },
    "executionInfo": {
     "elapsed": 1327,
     "status": "ok",
     "timestamp": 1701479649404,
     "user": {
      "displayName": "Chukwuebuka Michael Ezeokeke",
      "userId": "10586870854610730309"
     },
     "user_tz": 540
    },
    "id": "eUBSVJgGmdT2",
    "outputId": "ad9c92ab-ad4e-42a6-dae4-d7d4d3eeeb15",
    "tags": []
   },
   "outputs": [
    {
     "name": "stdout",
     "output_type": "stream",
     "text": [
      "\n",
      "RandomForestClassifier Model:\n",
      "Accuracy: 0.867\n",
      "\n",
      "Confusion Matrix:\n",
      "[[1549   58]\n",
      " [ 208  185]]\n",
      "\n",
      "Classification Report:\n",
      "              precision    recall  f1-score   support\n",
      "\n",
      "           0       0.88      0.96      0.92      1607\n",
      "           1       0.76      0.47      0.58       393\n",
      "\n",
      "    accuracy                           0.87      2000\n",
      "   macro avg       0.82      0.72      0.75      2000\n",
      "weighted avg       0.86      0.87      0.85      2000\n",
      "\n"
     ]
    }
   ],
   "source": [
    "from sklearn.ensemble import RandomForestClassifier\n",
    "\n",
    "# Create a RandomForestClassifier model\n",
    "rf_model = RandomForestClassifier(n_estimators=100, random_state=42)\n",
    "\n",
    "# Train the model\n",
    "rf_model.fit(X_train, y_train)\n",
    "\n",
    "# Make predictions on the test set\n",
    "y_pred_rf = rf_model.predict(X_test)\n",
    "\n",
    "# Evaluate the model\n",
    "accuracy_rf = accuracy_score(y_test, y_pred_rf)\n",
    "conf_matrix_rf = confusion_matrix(y_test, y_pred_rf)\n",
    "class_report_rf = classification_report(y_test, y_pred_rf)\n",
    "\n",
    "# Display evaluation metrics for RandomForestClassifier\n",
    "print(\"\\nRandomForestClassifier Model:\")\n",
    "print(f\"Accuracy: {accuracy_rf}\")\n",
    "print(f\"\\nConfusion Matrix:\\n{conf_matrix_rf}\")\n",
    "print(f\"\\nClassification Report:\\n{class_report_rf}\")\n"
   ]
  },
  {
   "cell_type": "code",
   "execution_count": 68,
   "metadata": {
    "tags": []
   },
   "outputs": [
    {
     "data": {
      "text/html": [
       "<div>\n",
       "<style scoped>\n",
       "    .dataframe tbody tr th:only-of-type {\n",
       "        vertical-align: middle;\n",
       "    }\n",
       "\n",
       "    .dataframe tbody tr th {\n",
       "        vertical-align: top;\n",
       "    }\n",
       "\n",
       "    .dataframe thead th {\n",
       "        text-align: right;\n",
       "    }\n",
       "</style>\n",
       "<table border=\"1\" class=\"dataframe\">\n",
       "  <thead>\n",
       "    <tr style=\"text-align: right;\">\n",
       "      <th></th>\n",
       "      <th>RowNumber</th>\n",
       "      <th>CustomerId</th>\n",
       "      <th>Surname</th>\n",
       "      <th>CreditScore</th>\n",
       "      <th>Geography</th>\n",
       "      <th>Gender</th>\n",
       "      <th>Age</th>\n",
       "      <th>Tenure</th>\n",
       "      <th>Balance</th>\n",
       "      <th>NumOfProducts</th>\n",
       "      <th>HasCrCard</th>\n",
       "      <th>IsActiveMember</th>\n",
       "      <th>EstimatedSalary</th>\n",
       "      <th>Exited</th>\n",
       "      <th>Gender_encoded</th>\n",
       "      <th>Probability_Not_Exited</th>\n",
       "      <th>Probability_Exited</th>\n",
       "    </tr>\n",
       "  </thead>\n",
       "  <tbody>\n",
       "    <tr>\n",
       "      <th>0</th>\n",
       "      <td>1</td>\n",
       "      <td>15634602</td>\n",
       "      <td>Hargrave</td>\n",
       "      <td>619</td>\n",
       "      <td>France</td>\n",
       "      <td>Female</td>\n",
       "      <td>42</td>\n",
       "      <td>2</td>\n",
       "      <td>0.00</td>\n",
       "      <td>1</td>\n",
       "      <td>1</td>\n",
       "      <td>1</td>\n",
       "      <td>101348.88</td>\n",
       "      <td>1</td>\n",
       "      <td>0</td>\n",
       "      <td>0.98</td>\n",
       "      <td>0.02</td>\n",
       "    </tr>\n",
       "    <tr>\n",
       "      <th>1</th>\n",
       "      <td>2</td>\n",
       "      <td>15647311</td>\n",
       "      <td>Hill</td>\n",
       "      <td>608</td>\n",
       "      <td>Spain</td>\n",
       "      <td>Female</td>\n",
       "      <td>41</td>\n",
       "      <td>1</td>\n",
       "      <td>83807.86</td>\n",
       "      <td>1</td>\n",
       "      <td>0</td>\n",
       "      <td>1</td>\n",
       "      <td>112542.58</td>\n",
       "      <td>0</td>\n",
       "      <td>0</td>\n",
       "      <td>0.98</td>\n",
       "      <td>0.02</td>\n",
       "    </tr>\n",
       "    <tr>\n",
       "      <th>2</th>\n",
       "      <td>3</td>\n",
       "      <td>15619304</td>\n",
       "      <td>Onio</td>\n",
       "      <td>502</td>\n",
       "      <td>France</td>\n",
       "      <td>Female</td>\n",
       "      <td>42</td>\n",
       "      <td>8</td>\n",
       "      <td>159660.80</td>\n",
       "      <td>3</td>\n",
       "      <td>1</td>\n",
       "      <td>0</td>\n",
       "      <td>113931.57</td>\n",
       "      <td>1</td>\n",
       "      <td>0</td>\n",
       "      <td>0.74</td>\n",
       "      <td>0.26</td>\n",
       "    </tr>\n",
       "    <tr>\n",
       "      <th>3</th>\n",
       "      <td>4</td>\n",
       "      <td>15701354</td>\n",
       "      <td>Boni</td>\n",
       "      <td>699</td>\n",
       "      <td>France</td>\n",
       "      <td>Female</td>\n",
       "      <td>39</td>\n",
       "      <td>1</td>\n",
       "      <td>0.00</td>\n",
       "      <td>2</td>\n",
       "      <td>0</td>\n",
       "      <td>0</td>\n",
       "      <td>93826.63</td>\n",
       "      <td>0</td>\n",
       "      <td>0</td>\n",
       "      <td>0.88</td>\n",
       "      <td>0.12</td>\n",
       "    </tr>\n",
       "    <tr>\n",
       "      <th>4</th>\n",
       "      <td>5</td>\n",
       "      <td>15737888</td>\n",
       "      <td>Mitchell</td>\n",
       "      <td>850</td>\n",
       "      <td>Spain</td>\n",
       "      <td>Female</td>\n",
       "      <td>43</td>\n",
       "      <td>2</td>\n",
       "      <td>125510.82</td>\n",
       "      <td>1</td>\n",
       "      <td>1</td>\n",
       "      <td>1</td>\n",
       "      <td>79084.10</td>\n",
       "      <td>0</td>\n",
       "      <td>0</td>\n",
       "      <td>0.92</td>\n",
       "      <td>0.08</td>\n",
       "    </tr>\n",
       "  </tbody>\n",
       "</table>\n",
       "</div>"
      ],
      "text/plain": [
       "   RowNumber  CustomerId   Surname  CreditScore Geography  Gender  Age  \\\n",
       "0          1    15634602  Hargrave          619    France  Female   42   \n",
       "1          2    15647311      Hill          608     Spain  Female   41   \n",
       "2          3    15619304      Onio          502    France  Female   42   \n",
       "3          4    15701354      Boni          699    France  Female   39   \n",
       "4          5    15737888  Mitchell          850     Spain  Female   43   \n",
       "\n",
       "   Tenure    Balance  NumOfProducts  HasCrCard  IsActiveMember  \\\n",
       "0       2       0.00              1          1               1   \n",
       "1       1   83807.86              1          0               1   \n",
       "2       8  159660.80              3          1               0   \n",
       "3       1       0.00              2          0               0   \n",
       "4       2  125510.82              1          1               1   \n",
       "\n",
       "   EstimatedSalary  Exited  Gender_encoded  Probability_Not_Exited  \\\n",
       "0        101348.88       1               0                    0.98   \n",
       "1        112542.58       0               0                    0.98   \n",
       "2        113931.57       1               0                    0.74   \n",
       "3         93826.63       0               0                    0.88   \n",
       "4         79084.10       0               0                    0.92   \n",
       "\n",
       "   Probability_Exited  \n",
       "0                0.02  \n",
       "1                0.02  \n",
       "2                0.26  \n",
       "3                0.12  \n",
       "4                0.08  "
      ]
     },
     "execution_count": 68,
     "metadata": {},
     "output_type": "execute_result"
    }
   ],
   "source": [
    "probabilities = rf_model.predict_proba(X_test)\n",
    "\n",
    "\n",
    "probabilities_df = pd.DataFrame(probabilities, columns=['Probability_Not_Exited', 'Probability_Exited'])\n",
    "\n",
    "\n",
    "result_df = pd.concat([df, probabilities_df], axis=1)\n",
    "\n",
    "# Display the result\n",
    "result_df.head()\n"
   ]
  },
  {
   "cell_type": "code",
   "execution_count": 61,
   "metadata": {
    "colab": {
     "base_uri": "https://localhost:8080/"
    },
    "executionInfo": {
     "elapsed": 2181,
     "status": "ok",
     "timestamp": 1701478834546,
     "user": {
      "displayName": "Chukwuebuka Michael Ezeokeke",
      "userId": "10586870854610730309"
     },
     "user_tz": 540
    },
    "id": "_h4ATDkxm-uv",
    "outputId": "bfb2e387-f2d1-4ea2-cb50-841d773d7eae",
    "tags": []
   },
   "outputs": [
    {
     "name": "stdout",
     "output_type": "stream",
     "text": [
      "\n",
      "Support Vector Machine (SVM) Model:\n",
      "Accuracy: 0.8035\n",
      "\n",
      "Confusion Matrix:\n",
      "[[1607    0]\n",
      " [ 393    0]]\n",
      "\n",
      "Classification Report:\n",
      "              precision    recall  f1-score   support\n",
      "\n",
      "           0       0.80      1.00      0.89      1607\n",
      "           1       0.00      0.00      0.00       393\n",
      "\n",
      "    accuracy                           0.80      2000\n",
      "   macro avg       0.40      0.50      0.45      2000\n",
      "weighted avg       0.65      0.80      0.72      2000\n",
      "\n"
     ]
    }
   ],
   "source": [
    "from sklearn.svm import SVC\n",
    "\n",
    "# Create a Support Vector Machine (SVM) model\n",
    "svm_model = SVC(kernel='linear', C=1.0, random_state=42)\n",
    "\n",
    "# Train the model\n",
    "svm_model.fit(X_train, y_train)\n",
    "\n",
    "# Make predictions on the test set\n",
    "y_pred_svm = svm_model.predict(X_test)\n",
    "\n",
    "# Evaluate the model\n",
    "accuracy_svm = accuracy_score(y_test, y_pred_svm)\n",
    "conf_matrix_svm = confusion_matrix(y_test, y_pred_svm)\n",
    "class_report_svm = classification_report(y_test, y_pred_svm)\n",
    "\n",
    "\n",
    "print(\"\\nSupport Vector Machine (SVM) Model:\")\n",
    "print(f\"Accuracy: {accuracy_svm}\")\n",
    "print(f\"\\nConfusion Matrix:\\n{conf_matrix_svm}\")\n",
    "print(f\"\\nClassification Report:\\n{class_report_svm}\")\n"
   ]
  },
  {
   "cell_type": "code",
   "execution_count": 67,
   "metadata": {
    "tags": []
   },
   "outputs": [
    {
     "data": {
      "text/html": [
       "<div>\n",
       "<style scoped>\n",
       "    .dataframe tbody tr th:only-of-type {\n",
       "        vertical-align: middle;\n",
       "    }\n",
       "\n",
       "    .dataframe tbody tr th {\n",
       "        vertical-align: top;\n",
       "    }\n",
       "\n",
       "    .dataframe thead th {\n",
       "        text-align: right;\n",
       "    }\n",
       "</style>\n",
       "<table border=\"1\" class=\"dataframe\">\n",
       "  <thead>\n",
       "    <tr style=\"text-align: right;\">\n",
       "      <th></th>\n",
       "      <th>RowNumber</th>\n",
       "      <th>CustomerId</th>\n",
       "      <th>Surname</th>\n",
       "      <th>CreditScore</th>\n",
       "      <th>Geography</th>\n",
       "      <th>Gender</th>\n",
       "      <th>Age</th>\n",
       "      <th>Tenure</th>\n",
       "      <th>Balance</th>\n",
       "      <th>NumOfProducts</th>\n",
       "      <th>HasCrCard</th>\n",
       "      <th>IsActiveMember</th>\n",
       "      <th>EstimatedSalary</th>\n",
       "      <th>Exited</th>\n",
       "      <th>Gender_encoded</th>\n",
       "      <th>Decision_Score</th>\n",
       "    </tr>\n",
       "  </thead>\n",
       "  <tbody>\n",
       "    <tr>\n",
       "      <th>0</th>\n",
       "      <td>1</td>\n",
       "      <td>15634602</td>\n",
       "      <td>Hargrave</td>\n",
       "      <td>619</td>\n",
       "      <td>France</td>\n",
       "      <td>Female</td>\n",
       "      <td>42</td>\n",
       "      <td>2</td>\n",
       "      <td>0.00</td>\n",
       "      <td>1</td>\n",
       "      <td>1</td>\n",
       "      <td>1</td>\n",
       "      <td>101348.88</td>\n",
       "      <td>1</td>\n",
       "      <td>0</td>\n",
       "      <td>-0.999795</td>\n",
       "    </tr>\n",
       "    <tr>\n",
       "      <th>1</th>\n",
       "      <td>2</td>\n",
       "      <td>15647311</td>\n",
       "      <td>Hill</td>\n",
       "      <td>608</td>\n",
       "      <td>Spain</td>\n",
       "      <td>Female</td>\n",
       "      <td>41</td>\n",
       "      <td>1</td>\n",
       "      <td>83807.86</td>\n",
       "      <td>1</td>\n",
       "      <td>0</td>\n",
       "      <td>1</td>\n",
       "      <td>112542.58</td>\n",
       "      <td>0</td>\n",
       "      <td>0</td>\n",
       "      <td>-1.000225</td>\n",
       "    </tr>\n",
       "    <tr>\n",
       "      <th>2</th>\n",
       "      <td>3</td>\n",
       "      <td>15619304</td>\n",
       "      <td>Onio</td>\n",
       "      <td>502</td>\n",
       "      <td>France</td>\n",
       "      <td>Female</td>\n",
       "      <td>42</td>\n",
       "      <td>8</td>\n",
       "      <td>159660.80</td>\n",
       "      <td>3</td>\n",
       "      <td>1</td>\n",
       "      <td>0</td>\n",
       "      <td>113931.57</td>\n",
       "      <td>1</td>\n",
       "      <td>0</td>\n",
       "      <td>-0.999875</td>\n",
       "    </tr>\n",
       "    <tr>\n",
       "      <th>3</th>\n",
       "      <td>4</td>\n",
       "      <td>15701354</td>\n",
       "      <td>Boni</td>\n",
       "      <td>699</td>\n",
       "      <td>France</td>\n",
       "      <td>Female</td>\n",
       "      <td>39</td>\n",
       "      <td>1</td>\n",
       "      <td>0.00</td>\n",
       "      <td>2</td>\n",
       "      <td>0</td>\n",
       "      <td>0</td>\n",
       "      <td>93826.63</td>\n",
       "      <td>0</td>\n",
       "      <td>0</td>\n",
       "      <td>-0.999844</td>\n",
       "    </tr>\n",
       "    <tr>\n",
       "      <th>4</th>\n",
       "      <td>5</td>\n",
       "      <td>15737888</td>\n",
       "      <td>Mitchell</td>\n",
       "      <td>850</td>\n",
       "      <td>Spain</td>\n",
       "      <td>Female</td>\n",
       "      <td>43</td>\n",
       "      <td>2</td>\n",
       "      <td>125510.82</td>\n",
       "      <td>1</td>\n",
       "      <td>1</td>\n",
       "      <td>1</td>\n",
       "      <td>79084.10</td>\n",
       "      <td>0</td>\n",
       "      <td>0</td>\n",
       "      <td>-1.000035</td>\n",
       "    </tr>\n",
       "  </tbody>\n",
       "</table>\n",
       "</div>"
      ],
      "text/plain": [
       "   RowNumber  CustomerId   Surname  CreditScore Geography  Gender  Age  \\\n",
       "0          1    15634602  Hargrave          619    France  Female   42   \n",
       "1          2    15647311      Hill          608     Spain  Female   41   \n",
       "2          3    15619304      Onio          502    France  Female   42   \n",
       "3          4    15701354      Boni          699    France  Female   39   \n",
       "4          5    15737888  Mitchell          850     Spain  Female   43   \n",
       "\n",
       "   Tenure    Balance  NumOfProducts  HasCrCard  IsActiveMember  \\\n",
       "0       2       0.00              1          1               1   \n",
       "1       1   83807.86              1          0               1   \n",
       "2       8  159660.80              3          1               0   \n",
       "3       1       0.00              2          0               0   \n",
       "4       2  125510.82              1          1               1   \n",
       "\n",
       "   EstimatedSalary  Exited  Gender_encoded  Decision_Score  \n",
       "0        101348.88       1               0       -0.999795  \n",
       "1        112542.58       0               0       -1.000225  \n",
       "2        113931.57       1               0       -0.999875  \n",
       "3         93826.63       0               0       -0.999844  \n",
       "4         79084.10       0               0       -1.000035  "
      ]
     },
     "execution_count": 67,
     "metadata": {},
     "output_type": "execute_result"
    }
   ],
   "source": [
    "# Get decision function scores for each sample\n",
    "decision_scores = svm_model.decision_function(X_test)\n",
    "\n",
    "\n",
    "scores_df = pd.DataFrame(decision_scores, columns=['Decision_Score'])\n",
    "\n",
    "\n",
    "result_df = pd.concat([df, scores_df], axis=1)\n",
    "\n",
    "# Display the result\n",
    "result_df.head()\n"
   ]
  },
  {
   "cell_type": "markdown",
   "metadata": {},
   "source": [
    "- The SVC class in scikit-learn does not have a predict_proba method like some other classifiers (e.g., logistic regression). SVMs typically provide decision function scores rather than probabilities."
   ]
  },
  {
   "cell_type": "code",
   "execution_count": 44,
   "metadata": {
    "colab": {
     "base_uri": "https://localhost:8080/"
    },
    "executionInfo": {
     "elapsed": 7119,
     "status": "ok",
     "timestamp": 1701480299255,
     "user": {
      "displayName": "Chukwuebuka Michael Ezeokeke",
      "userId": "10586870854610730309"
     },
     "user_tz": 540
    },
    "id": "UHTylGgAqbqq",
    "outputId": "1d2e3cc9-1f15-4921-9d7e-724633c732d1"
   },
   "outputs": [
    {
     "name": "stdout",
     "output_type": "stream",
     "text": [
      "0:\tlearn: 0.6124146\ttotal: 5.61ms\tremaining: 2.8s\n",
      "100:\tlearn: 0.2882958\ttotal: 575ms\tremaining: 2.27s\n",
      "200:\tlearn: 0.2486924\ttotal: 1.1s\tremaining: 1.64s\n",
      "300:\tlearn: 0.2173920\ttotal: 1.71s\tremaining: 1.13s\n",
      "400:\tlearn: 0.1928418\ttotal: 2.36s\tremaining: 584ms\n",
      "499:\tlearn: 0.1710887\ttotal: 2.92s\tremaining: 0us\n",
      "Voting Classifier Model with a combination of catboost, logistic regression, randomforest, svm and xgboost:\n",
      "Accuracy: 0.8695\n",
      "\n",
      "Confusion Matrix:\n",
      "[[1573   34]\n",
      " [ 227  166]]\n",
      "\n",
      "Classification Report:\n",
      "              precision    recall  f1-score   support\n",
      "\n",
      "           0       0.87      0.98      0.92      1607\n",
      "           1       0.83      0.42      0.56       393\n",
      "\n",
      "    accuracy                           0.87      2000\n",
      "   macro avg       0.85      0.70      0.74      2000\n",
      "weighted avg       0.87      0.87      0.85      2000\n",
      "\n"
     ]
    }
   ],
   "source": [
    "import pandas as pd\n",
    "from sklearn.model_selection import train_test_split\n",
    "from sklearn.preprocessing import OneHotEncoder, StandardScaler\n",
    "from sklearn.ensemble import RandomForestClassifier, VotingClassifier\n",
    "from sklearn.linear_model import LogisticRegression\n",
    "from sklearn.svm import SVC\n",
    "from xgboost import XGBClassifier\n",
    "from sklearn.metrics import accuracy_score, classification_report, confusion_matrix\n",
    "\n",
    "\n",
    "categorical_cols = ['Geography', 'Gender']\n",
    "numerical_cols = ['CreditScore', 'Age', 'Tenure', 'Balance', 'NumOfProducts', 'HasCrCard', 'IsActiveMember', 'EstimatedSalary']\n",
    "\n",
    "# One-hot encode categorical variables\n",
    "encoder = OneHotEncoder(drop='first', sparse=False)\n",
    "encoded_categorical = pd.DataFrame(encoder.fit_transform(df[categorical_cols]), columns=encoder.get_feature_names_out(categorical_cols))\n",
    "df_encoded = pd.concat([df[numerical_cols], encoded_categorical], axis=1)\n",
    "\n",
    "# Standardize numerical features\n",
    "scaler = StandardScaler()\n",
    "df_encoded[numerical_cols] = scaler.fit_transform(df_encoded[numerical_cols])\n",
    "\n",
    "\n",
    "X = df_encoded  # Features\n",
    "y = df['Exited']  # Target\n",
    "\n",
    "# Split the data into training and testing sets\n",
    "X_train, X_test, y_train, y_test = train_test_split(X, y, test_size=0.2, random_state=42)\n",
    "\n",
    "# Create individual models\n",
    "catboost_model = CatBoostClassifier(iterations=500, depth=6, learning_rate=0.1, loss_function='Logloss', verbose=100)\n",
    "logistic_model = LogisticRegression()\n",
    "rf_model = RandomForestClassifier(n_estimators=100, random_state=42)\n",
    "svm_model = SVC(kernel='linear', C=1.0, probability=True, random_state=42)\n",
    "xgb_model = XGBClassifier(n_estimators=100, learning_rate=0.1, max_depth=6, objective='binary:logistic', random_state=42)\n",
    "\n",
    "# Create a voting classifier\n",
    "voting_model = VotingClassifier(estimators=[\n",
    "    ('catboost', catboost_model),\n",
    "    ('logistic', logistic_model),\n",
    "    ('random_forest', rf_model),\n",
    "    ('svm', svm_model),\n",
    "    ('xgboost', xgb_model) \n",
    "], voting='soft')\n",
    "\n",
    "# Train the voting classifier\n",
    "voting_model.fit(X_train, y_train)\n",
    "\n",
    "# Make predictions on the test set\n",
    "y_pred_voting = voting_model.predict(X_test)\n",
    "\n",
    "# Evaluate the model\n",
    "accuracy_voting = accuracy_score(y_test, y_pred_voting)\n",
    "conf_matrix_voting = confusion_matrix(y_test, y_pred_voting)\n",
    "class_report_voting = classification_report(y_test, y_pred_voting)\n",
    "\n",
    "# Display evaluation metrics for the combined model\n",
    "print(\"Voting Classifier Model with a combination of catboost, logistic regression, randomforest, svm and xgboost:\")\n",
    "print(f\"Accuracy: {accuracy_voting}\")\n",
    "print(f\"\\nConfusion Matrix:\\n{conf_matrix_voting}\")\n",
    "print(f\"\\nClassification Report:\\n{class_report_voting}\")\n"
   ]
  },
  {
   "cell_type": "code",
   "execution_count": 70,
   "metadata": {
    "tags": []
   },
   "outputs": [
    {
     "data": {
      "text/html": [
       "<div>\n",
       "<style scoped>\n",
       "    .dataframe tbody tr th:only-of-type {\n",
       "        vertical-align: middle;\n",
       "    }\n",
       "\n",
       "    .dataframe tbody tr th {\n",
       "        vertical-align: top;\n",
       "    }\n",
       "\n",
       "    .dataframe thead th {\n",
       "        text-align: right;\n",
       "    }\n",
       "</style>\n",
       "<table border=\"1\" class=\"dataframe\">\n",
       "  <thead>\n",
       "    <tr style=\"text-align: right;\">\n",
       "      <th></th>\n",
       "      <th>RowNumber</th>\n",
       "      <th>CustomerId</th>\n",
       "      <th>Surname</th>\n",
       "      <th>CreditScore</th>\n",
       "      <th>Geography</th>\n",
       "      <th>Gender</th>\n",
       "      <th>Age</th>\n",
       "      <th>Tenure</th>\n",
       "      <th>Balance</th>\n",
       "      <th>NumOfProducts</th>\n",
       "      <th>HasCrCard</th>\n",
       "      <th>IsActiveMember</th>\n",
       "      <th>EstimatedSalary</th>\n",
       "      <th>Exited</th>\n",
       "      <th>Gender_encoded</th>\n",
       "      <th>Probability_Not_Exited</th>\n",
       "      <th>Probability_Exited</th>\n",
       "    </tr>\n",
       "  </thead>\n",
       "  <tbody>\n",
       "    <tr>\n",
       "      <th>0</th>\n",
       "      <td>1</td>\n",
       "      <td>15634602</td>\n",
       "      <td>Hargrave</td>\n",
       "      <td>619</td>\n",
       "      <td>France</td>\n",
       "      <td>Female</td>\n",
       "      <td>42</td>\n",
       "      <td>2</td>\n",
       "      <td>0.00</td>\n",
       "      <td>1</td>\n",
       "      <td>1</td>\n",
       "      <td>1</td>\n",
       "      <td>101348.88</td>\n",
       "      <td>1</td>\n",
       "      <td>0</td>\n",
       "      <td>0.861037</td>\n",
       "      <td>0.138963</td>\n",
       "    </tr>\n",
       "    <tr>\n",
       "      <th>1</th>\n",
       "      <td>2</td>\n",
       "      <td>15647311</td>\n",
       "      <td>Hill</td>\n",
       "      <td>608</td>\n",
       "      <td>Spain</td>\n",
       "      <td>Female</td>\n",
       "      <td>41</td>\n",
       "      <td>1</td>\n",
       "      <td>83807.86</td>\n",
       "      <td>1</td>\n",
       "      <td>0</td>\n",
       "      <td>1</td>\n",
       "      <td>112542.58</td>\n",
       "      <td>0</td>\n",
       "      <td>0</td>\n",
       "      <td>0.951671</td>\n",
       "      <td>0.048329</td>\n",
       "    </tr>\n",
       "    <tr>\n",
       "      <th>2</th>\n",
       "      <td>3</td>\n",
       "      <td>15619304</td>\n",
       "      <td>Onio</td>\n",
       "      <td>502</td>\n",
       "      <td>France</td>\n",
       "      <td>Female</td>\n",
       "      <td>42</td>\n",
       "      <td>8</td>\n",
       "      <td>159660.80</td>\n",
       "      <td>3</td>\n",
       "      <td>1</td>\n",
       "      <td>0</td>\n",
       "      <td>113931.57</td>\n",
       "      <td>1</td>\n",
       "      <td>0</td>\n",
       "      <td>0.783736</td>\n",
       "      <td>0.216264</td>\n",
       "    </tr>\n",
       "    <tr>\n",
       "      <th>3</th>\n",
       "      <td>4</td>\n",
       "      <td>15701354</td>\n",
       "      <td>Boni</td>\n",
       "      <td>699</td>\n",
       "      <td>France</td>\n",
       "      <td>Female</td>\n",
       "      <td>39</td>\n",
       "      <td>1</td>\n",
       "      <td>0.00</td>\n",
       "      <td>2</td>\n",
       "      <td>0</td>\n",
       "      <td>0</td>\n",
       "      <td>93826.63</td>\n",
       "      <td>0</td>\n",
       "      <td>0</td>\n",
       "      <td>0.768626</td>\n",
       "      <td>0.231374</td>\n",
       "    </tr>\n",
       "    <tr>\n",
       "      <th>4</th>\n",
       "      <td>5</td>\n",
       "      <td>15737888</td>\n",
       "      <td>Mitchell</td>\n",
       "      <td>850</td>\n",
       "      <td>Spain</td>\n",
       "      <td>Female</td>\n",
       "      <td>43</td>\n",
       "      <td>2</td>\n",
       "      <td>125510.82</td>\n",
       "      <td>1</td>\n",
       "      <td>1</td>\n",
       "      <td>1</td>\n",
       "      <td>79084.10</td>\n",
       "      <td>0</td>\n",
       "      <td>0</td>\n",
       "      <td>0.907095</td>\n",
       "      <td>0.092905</td>\n",
       "    </tr>\n",
       "  </tbody>\n",
       "</table>\n",
       "</div>"
      ],
      "text/plain": [
       "   RowNumber  CustomerId   Surname  CreditScore Geography  Gender  Age  \\\n",
       "0          1    15634602  Hargrave          619    France  Female   42   \n",
       "1          2    15647311      Hill          608     Spain  Female   41   \n",
       "2          3    15619304      Onio          502    France  Female   42   \n",
       "3          4    15701354      Boni          699    France  Female   39   \n",
       "4          5    15737888  Mitchell          850     Spain  Female   43   \n",
       "\n",
       "   Tenure    Balance  NumOfProducts  HasCrCard  IsActiveMember  \\\n",
       "0       2       0.00              1          1               1   \n",
       "1       1   83807.86              1          0               1   \n",
       "2       8  159660.80              3          1               0   \n",
       "3       1       0.00              2          0               0   \n",
       "4       2  125510.82              1          1               1   \n",
       "\n",
       "   EstimatedSalary  Exited  Gender_encoded  Probability_Not_Exited  \\\n",
       "0        101348.88       1               0                0.861037   \n",
       "1        112542.58       0               0                0.951671   \n",
       "2        113931.57       1               0                0.783736   \n",
       "3         93826.63       0               0                0.768626   \n",
       "4         79084.10       0               0                0.907095   \n",
       "\n",
       "   Probability_Exited  \n",
       "0            0.138963  \n",
       "1            0.048329  \n",
       "2            0.216264  \n",
       "3            0.231374  \n",
       "4            0.092905  "
      ]
     },
     "execution_count": 70,
     "metadata": {},
     "output_type": "execute_result"
    }
   ],
   "source": [
    "\n",
    "y_probabilities_voting = voting_model.predict_proba(X_test)\n",
    "\n",
    "\n",
    "probabilities_df = pd.DataFrame(y_probabilities_voting, columns=['Probability_Not_Exited', 'Probability_Exited'])\n",
    "\n",
    "# Concatenate the original DataFrame and the probabilities DataFrame\n",
    "result_df = pd.concat([df, probabilities_df], axis=1)\n",
    "\n",
    "# Display the result\n",
    "result_df.head()\n"
   ]
  },
  {
   "cell_type": "code",
   "execution_count": 46,
   "metadata": {
    "colab": {
     "base_uri": "https://localhost:8080/"
    },
    "executionInfo": {
     "elapsed": 458,
     "status": "ok",
     "timestamp": 1701478385716,
     "user": {
      "displayName": "Chukwuebuka Michael Ezeokeke",
      "userId": "10586870854610730309"
     },
     "user_tz": 540
    },
    "id": "4KUNsDEAxeN3",
    "outputId": "7e3ebdaf-b9f3-493d-b444-78ac61a6a470"
   },
   "outputs": [
    {
     "name": "stdout",
     "output_type": "stream",
     "text": [
      "XGBoost Classifier Model:\n",
      "Accuracy: 0.8705\n",
      "\n",
      "Confusion Matrix:\n",
      "[[1540   67]\n",
      " [ 192  201]]\n",
      "\n",
      "Classification Report:\n",
      "              precision    recall  f1-score   support\n",
      "\n",
      "           0       0.89      0.96      0.92      1607\n",
      "           1       0.75      0.51      0.61       393\n",
      "\n",
      "    accuracy                           0.87      2000\n",
      "   macro avg       0.82      0.73      0.77      2000\n",
      "weighted avg       0.86      0.87      0.86      2000\n",
      "\n"
     ]
    }
   ],
   "source": [
    "import pandas as pd\n",
    "from sklearn.model_selection import train_test_split\n",
    "from sklearn.preprocessing import OneHotEncoder, StandardScaler\n",
    "from xgboost import XGBClassifier\n",
    "from sklearn.metrics import accuracy_score, classification_report, confusion_matrix\n",
    "\n",
    "\n",
    "# Separate categorical and numerical features\n",
    "categorical_cols = ['Geography', 'Gender']\n",
    "numerical_cols = ['CreditScore', 'Age', 'Tenure', 'Balance', 'NumOfProducts', 'HasCrCard', 'IsActiveMember', 'EstimatedSalary']\n",
    "\n",
    "# One-hot encode categorical variables\n",
    "encoder = OneHotEncoder(drop='first', sparse=False)\n",
    "encoded_categorical = pd.DataFrame(encoder.fit_transform(df[categorical_cols]), columns=encoder.get_feature_names_out(categorical_cols))\n",
    "df_encoded = pd.concat([df[numerical_cols], encoded_categorical], axis=1)\n",
    "\n",
    "# Standardize numerical features\n",
    "scaler = StandardScaler()\n",
    "df_encoded[numerical_cols] = scaler.fit_transform(df_encoded[numerical_cols])\n",
    "\n",
    "# Assuming 'Exited' is the target variable and you want to predict it\n",
    "X = df_encoded  # Features\n",
    "y = df['Exited']  # Target\n",
    "\n",
    "# Split the data into training and testing sets\n",
    "X_train, X_test, y_train, y_test = train_test_split(X, y, test_size=0.2, random_state=42)\n",
    "\n",
    "# Create an XGBoost classifier\n",
    "xgb_model = XGBClassifier(n_estimators=100, learning_rate=0.1, max_depth=6, objective='binary:logistic', random_state=42)\n",
    "\n",
    "# Train the XGBoost model\n",
    "xgb_model.fit(X_train, y_train)\n",
    "\n",
    "# Make predictions on the test set\n",
    "y_pred_xgb = xgb_model.predict(X_test)\n",
    "\n",
    "# Evaluate the model\n",
    "accuracy_xgb = accuracy_score(y_test, y_pred_xgb)\n",
    "conf_matrix_xgb = confusion_matrix(y_test, y_pred_xgb)\n",
    "class_report_xgb = classification_report(y_test, y_pred_xgb)\n",
    "\n",
    "# Display evaluation metrics for the XGBoost model\n",
    "print(\"XGBoost Classifier Model:\")\n",
    "print(f\"Accuracy: {accuracy_xgb}\")\n",
    "print(f\"\\nConfusion Matrix:\\n{conf_matrix_xgb}\")\n",
    "print(f\"\\nClassification Report:\\n{class_report_xgb}\")\n"
   ]
  },
  {
   "cell_type": "code",
   "execution_count": 74,
   "metadata": {
    "tags": []
   },
   "outputs": [
    {
     "data": {
      "text/html": [
       "<div>\n",
       "<style scoped>\n",
       "    .dataframe tbody tr th:only-of-type {\n",
       "        vertical-align: middle;\n",
       "    }\n",
       "\n",
       "    .dataframe tbody tr th {\n",
       "        vertical-align: top;\n",
       "    }\n",
       "\n",
       "    .dataframe thead th {\n",
       "        text-align: right;\n",
       "    }\n",
       "</style>\n",
       "<table border=\"1\" class=\"dataframe\">\n",
       "  <thead>\n",
       "    <tr style=\"text-align: right;\">\n",
       "      <th></th>\n",
       "      <th>RowNumber</th>\n",
       "      <th>CustomerId</th>\n",
       "      <th>Surname</th>\n",
       "      <th>CreditScore</th>\n",
       "      <th>Geography</th>\n",
       "      <th>Gender</th>\n",
       "      <th>Age</th>\n",
       "      <th>Tenure</th>\n",
       "      <th>Balance</th>\n",
       "      <th>NumOfProducts</th>\n",
       "      <th>HasCrCard</th>\n",
       "      <th>IsActiveMember</th>\n",
       "      <th>EstimatedSalary</th>\n",
       "      <th>Exited</th>\n",
       "      <th>Gender_encoded</th>\n",
       "      <th>Probability_Not_Exited</th>\n",
       "      <th>Probability_Exited</th>\n",
       "    </tr>\n",
       "  </thead>\n",
       "  <tbody>\n",
       "    <tr>\n",
       "      <th>0</th>\n",
       "      <td>1</td>\n",
       "      <td>15634602</td>\n",
       "      <td>Hargrave</td>\n",
       "      <td>619</td>\n",
       "      <td>France</td>\n",
       "      <td>Female</td>\n",
       "      <td>42</td>\n",
       "      <td>2</td>\n",
       "      <td>0.00</td>\n",
       "      <td>1</td>\n",
       "      <td>1</td>\n",
       "      <td>1</td>\n",
       "      <td>101348.88</td>\n",
       "      <td>1</td>\n",
       "      <td>0</td>\n",
       "      <td>0.966466</td>\n",
       "      <td>0.033534</td>\n",
       "    </tr>\n",
       "    <tr>\n",
       "      <th>1</th>\n",
       "      <td>2</td>\n",
       "      <td>15647311</td>\n",
       "      <td>Hill</td>\n",
       "      <td>608</td>\n",
       "      <td>Spain</td>\n",
       "      <td>Female</td>\n",
       "      <td>41</td>\n",
       "      <td>1</td>\n",
       "      <td>83807.86</td>\n",
       "      <td>1</td>\n",
       "      <td>0</td>\n",
       "      <td>1</td>\n",
       "      <td>112542.58</td>\n",
       "      <td>0</td>\n",
       "      <td>0</td>\n",
       "      <td>0.979490</td>\n",
       "      <td>0.020510</td>\n",
       "    </tr>\n",
       "    <tr>\n",
       "      <th>2</th>\n",
       "      <td>3</td>\n",
       "      <td>15619304</td>\n",
       "      <td>Onio</td>\n",
       "      <td>502</td>\n",
       "      <td>France</td>\n",
       "      <td>Female</td>\n",
       "      <td>42</td>\n",
       "      <td>8</td>\n",
       "      <td>159660.80</td>\n",
       "      <td>3</td>\n",
       "      <td>1</td>\n",
       "      <td>0</td>\n",
       "      <td>113931.57</td>\n",
       "      <td>1</td>\n",
       "      <td>0</td>\n",
       "      <td>0.896327</td>\n",
       "      <td>0.103673</td>\n",
       "    </tr>\n",
       "    <tr>\n",
       "      <th>3</th>\n",
       "      <td>4</td>\n",
       "      <td>15701354</td>\n",
       "      <td>Boni</td>\n",
       "      <td>699</td>\n",
       "      <td>France</td>\n",
       "      <td>Female</td>\n",
       "      <td>39</td>\n",
       "      <td>1</td>\n",
       "      <td>0.00</td>\n",
       "      <td>2</td>\n",
       "      <td>0</td>\n",
       "      <td>0</td>\n",
       "      <td>93826.63</td>\n",
       "      <td>0</td>\n",
       "      <td>0</td>\n",
       "      <td>0.856168</td>\n",
       "      <td>0.143832</td>\n",
       "    </tr>\n",
       "    <tr>\n",
       "      <th>4</th>\n",
       "      <td>5</td>\n",
       "      <td>15737888</td>\n",
       "      <td>Mitchell</td>\n",
       "      <td>850</td>\n",
       "      <td>Spain</td>\n",
       "      <td>Female</td>\n",
       "      <td>43</td>\n",
       "      <td>2</td>\n",
       "      <td>125510.82</td>\n",
       "      <td>1</td>\n",
       "      <td>1</td>\n",
       "      <td>1</td>\n",
       "      <td>79084.10</td>\n",
       "      <td>0</td>\n",
       "      <td>0</td>\n",
       "      <td>0.948333</td>\n",
       "      <td>0.051667</td>\n",
       "    </tr>\n",
       "  </tbody>\n",
       "</table>\n",
       "</div>"
      ],
      "text/plain": [
       "   RowNumber  CustomerId   Surname  CreditScore Geography  Gender  Age  \\\n",
       "0          1    15634602  Hargrave          619    France  Female   42   \n",
       "1          2    15647311      Hill          608     Spain  Female   41   \n",
       "2          3    15619304      Onio          502    France  Female   42   \n",
       "3          4    15701354      Boni          699    France  Female   39   \n",
       "4          5    15737888  Mitchell          850     Spain  Female   43   \n",
       "\n",
       "   Tenure    Balance  NumOfProducts  HasCrCard  IsActiveMember  \\\n",
       "0       2       0.00              1          1               1   \n",
       "1       1   83807.86              1          0               1   \n",
       "2       8  159660.80              3          1               0   \n",
       "3       1       0.00              2          0               0   \n",
       "4       2  125510.82              1          1               1   \n",
       "\n",
       "   EstimatedSalary  Exited  Gender_encoded  Probability_Not_Exited  \\\n",
       "0        101348.88       1               0                0.966466   \n",
       "1        112542.58       0               0                0.979490   \n",
       "2        113931.57       1               0                0.896327   \n",
       "3         93826.63       0               0                0.856168   \n",
       "4         79084.10       0               0                0.948333   \n",
       "\n",
       "   Probability_Exited  \n",
       "0            0.033534  \n",
       "1            0.020510  \n",
       "2            0.103673  \n",
       "3            0.143832  \n",
       "4            0.051667  "
      ]
     },
     "execution_count": 74,
     "metadata": {},
     "output_type": "execute_result"
    }
   ],
   "source": [
    "probabilities_xgb = xgb_model.predict_proba(X_test)\n",
    "\n",
    "# Create a DataFrame with predicted probabilities\n",
    "probabilities_df_xgb = pd.DataFrame(probabilities_xgb, columns=['Probability_Not_Exited', 'Probability_Exited'])\n",
    "\n",
    "\n",
    "result_df_xgb = pd.concat([df, probabilities_df_xgb], axis=1)\n",
    "\n",
    "result_df_xgb.head()"
   ]
  },
  {
   "cell_type": "code",
   "execution_count": 1,
   "metadata": {},
   "outputs": [
    {
     "ename": "NameError",
     "evalue": "name 'result_df_xgb' is not defined",
     "output_type": "error",
     "traceback": [
      "\u001b[1;31m---------------------------------------------------------------------------\u001b[0m",
      "\u001b[1;31mNameError\u001b[0m                                 Traceback (most recent call last)",
      "Cell \u001b[1;32mIn[1], line 1\u001b[0m\n\u001b[1;32m----> 1\u001b[0m result_df_xgb\n",
      "\u001b[1;31mNameError\u001b[0m: name 'result_df_xgb' is not defined"
     ]
    }
   ],
   "source": [
    "result_df_xgb"
   ]
  },
  {
   "cell_type": "markdown",
   "metadata": {
    "id": "qyw7T0LRJuhC"
   },
   "source": [
    "# OBSERVATIONS FROM THE MACHINE LEARNING PROCESS"
   ]
  },
  {
   "cell_type": "markdown",
   "metadata": {
    "id": "wjeGfFjgJ0ft"
   },
   "source": [
    "**CATBOOST MODEL:** Accuracy: 0.865\n",
    "\n",
    "**LOGISTIC REGRESSION:**  Accuracy: 0.811\n",
    "\n",
    "**RANDOM FOREST CLASSIFIER:**\n",
    "Accuracy: 0.867\n",
    "\n",
    "**SVM MODEL:** Accuracy: 0.8035\n",
    "\n",
    "**Voting Classifier Model with a combination of catboost, logistic regression, randomforest, svm and xgboost:** Accuracy: 0.8695\n",
    "\n",
    "**XGBOOST MODEL:** Accuracy: 0.8705\n",
    "\n"
   ]
  },
  {
   "cell_type": "markdown",
   "metadata": {
    "id": "5Grxg-TFViJE"
   },
   "source": [
    "XGboost models stood out from other models used to predict the rate of customers churning in the given dataset.\n",
    "\n",
    "Voting Classifier constitutes a fundamental approach to combining the predictive capabilities of multiple individual models to enhance overall predictive performance.\n",
    "\n",
    "The Voting Classifier operates on the principle of amalgamating the decisions or predictions made by its constituent models, leveraging a democratic voting mechanism. This ensemble technique supports both binary and multiclass classification tasks, and this is why i considered to use it for this customer churn prediction.\n",
    "\n",
    "The SVM model performed poorly on this task"
   ]
  }
 ],
 "metadata": {
  "colab": {
   "authorship_tag": "ABX9TyMt8ZYiOcgdwIws6AfMI9J6",
   "provenance": []
  },
  "kernelspec": {
   "display_name": "Python 3 (ipykernel)",
   "language": "python",
   "name": "python3"
  },
  "language_info": {
   "codemirror_mode": {
    "name": "ipython",
    "version": 3
   },
   "file_extension": ".py",
   "mimetype": "text/x-python",
   "name": "python",
   "nbconvert_exporter": "python",
   "pygments_lexer": "ipython3",
   "version": "3.11.5"
  }
 },
 "nbformat": 4,
 "nbformat_minor": 4
}
